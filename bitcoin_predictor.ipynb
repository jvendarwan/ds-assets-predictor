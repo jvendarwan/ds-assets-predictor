{
 "cells": [
  {
   "cell_type": "markdown",
   "metadata": {},
   "source": [
    "# Bitcoin Price Prediction"
   ]
  },
  {
   "cell_type": "markdown",
   "metadata": {},
   "source": [
    "**Problem Type** \n",
    "<br>\n",
    "Supervised learning regression problem for time series forecasting\n",
    "\n",
    "**Objective**  \n",
    "Predict Bitcoin closing price (BTC Close) using:\n",
    "- Historical Bitcoin data (Open, High, Low, Volume)\n",
    "- NASDAQ market data (Open, High, Low, Close, Volume)\n",
    "- Gold market data (Open, High, Low, Close, Volume)\n",
    "- Technical indicator (Trend)\n",
    "\n",
    "**Flow**\n",
    "1) Data collection and EDA\n",
    "2) Initial predictive model\n",
    "3) Feature engineering and selection\n",
    "4) Improved predictive model\n",
    "5) Model evaluation and conclusion"
   ]
  },
  {
   "cell_type": "markdown",
   "metadata": {},
   "source": [
    "# 1. Data Collection and EDA"
   ]
  },
  {
   "cell_type": "markdown",
   "metadata": {},
   "source": [
    "## Setup function to fetch data"
   ]
  },
  {
   "cell_type": "code",
   "execution_count": 1,
   "metadata": {},
   "outputs": [],
   "source": [
    "import yfinance as yf\n",
    "import pandas as pd\n",
    "from rich.console import Console\n",
    "from rich.table import Table\n",
    "\n",
    "console = Console()\n",
    "\n",
    "def fetch_market_data(start_date='2014-09-17', end_date='2025-06-09', verbose=True):\n",
    "    \"\"\"\n",
    "    Fetch and process market data for Bitcoin, NASDAQ, and Gold.\n",
    "    \n",
    "    Parameters:x\n",
    "    -----------\n",
    "    start_date : str\n",
    "        Start date in 'YYYY-MM-DD' format\n",
    "    end_date : str\n",
    "        End date in 'YYYY-MM-DD' format\n",
    "    verbose : bool\n",
    "        Whether to print progress information\n",
    "        \n",
    "    Returns:\n",
    "    --------\n",
    "    pd.DataFrame\n",
    "        Processed market data with all features\n",
    "    \"\"\"\n",
    "    try:\n",
    "        if verbose:\n",
    "            console.print(\"[bold yellow]🔍 Fetching market data...[/bold yellow]\")\n",
    "            console.print(f\"[bold]📅 Date range:[/bold] {start_date} to {end_date}\")\n",
    "        \n",
    "        # Fetch Bitcoin data\n",
    "        if verbose:\n",
    "            console.print(\"\\n[bold yellow]📊 Fetching Bitcoin data...[/bold yellow]\")\n",
    "        btc = yf.download('BTC-USD', start=start_date, end=end_date, progress=False)\n",
    "        # The data comes with a MultiIndex structure like:\n",
    "        # MultiIndex([('Open', 'BTC-USD'), ('High', 'BTC-USD'), ...])\n",
    "        # We use xs to get the 'BTC-USD' level\n",
    "        btc = btc.xs('BTC-USD', level='Ticker', axis=1)\n",
    "        \n",
    "        # Fetch NASDAQ data\n",
    "        if verbose:\n",
    "            console.print(\"[bold yellow]📈 Fetching NASDAQ data...[/bold yellow]\")\n",
    "        nasdaq = yf.download('^IXIC', start=start_date, end=end_date, progress=False)\n",
    "        nasdaq = nasdaq.xs('^IXIC', level='Ticker', axis=1)\n",
    "        \n",
    "        # Fetch Gold data\n",
    "        if verbose:\n",
    "            console.print(\"[bold yellow]💰 Fetching Gold data...[/bold yellow]\")\n",
    "        gold = yf.download('GC=F', start=start_date, end=end_date, progress=False)\n",
    "        gold = gold.xs('GC=F', level='Ticker', axis=1)\n",
    "        \n",
    "        # Data validation\n",
    "        if btc.empty or nasdaq.empty or gold.empty:\n",
    "            console.print(\"[bold red]⚠️ Warning: One or more dataframes are empty![/bold red]\")\n",
    "            return None\n",
    "            \n",
    "        # Create a new DataFrame with Bitcoin dates as the index\n",
    "        data = pd.DataFrame(index=btc.index)\n",
    "        data['Date'] = data.index\n",
    "        \n",
    "        # Process Bitcoin data\n",
    "        if verbose:\n",
    "            console.print(\"\\n[bold green]🔄 Processing Bitcoin data...[/bold green]\")\n",
    "        data['BTC Open'] = btc['Open'].round(6)\n",
    "        data['BTC High'] = btc['High'].round(6)\n",
    "        data['BTC Low'] = btc['Low'].round(6)\n",
    "        data['BTC Close'] = btc['Close'].round(6)\n",
    "        data['BTC Volume'] = btc['Volume'].astype(int)\n",
    "        \n",
    "        # Process NASDAQ data\n",
    "        if verbose:\n",
    "            console.print(\"[bold green]🔄 Processing NASDAQ data...[/bold green]\")\n",
    "        nasdaq = nasdaq.reindex(btc.index, method='ffill')\n",
    "        data['NASDAQ Open'] = nasdaq['Open'].round(6)\n",
    "        data['NASDAQ High'] = nasdaq['High'].round(6)\n",
    "        data['NASDAQ Low'] = nasdaq['Low'].round(6)\n",
    "        data['NASDAQ Close'] = nasdaq['Close'].round(6)\n",
    "        data['NASDAQ Volume'] = nasdaq['Volume'].astype(int)\n",
    "        \n",
    "        # Process Gold data\n",
    "        if verbose:\n",
    "            console.print(\"[bold green]🔄 Processing Gold data...[/bold green]\")\n",
    "        gold = gold.reindex(btc.index, method='ffill')\n",
    "        data['Gold Open'] = gold['Open'].round(1)\n",
    "        data['Gold High'] = gold['High'].round(1)\n",
    "        data['Gold Low'] = gold['Low'].round(1)\n",
    "        data['Gold Close'] = gold['Close'].round(1)\n",
    "        data['Gold Volume'] = gold['Volume'].astype(int)\n",
    "        \n",
    "        # Calculate trend\n",
    "        if verbose:\n",
    "            console.print(\"[bold green]📈 Calculating trend...[/bold green]\")\n",
    "        data['Trend'] = (data['BTC Close'] > data['BTC Open']).astype(int) * 2 - 1\n",
    "        \n",
    "        if verbose:\n",
    "            console.print(\"\\n[bold green]✅ Data processing complete![/bold green]\")\n",
    "            \n",
    "            # Create a summary table\n",
    "            table = Table(title=\"Data Summary\")\n",
    "            table.add_column(\"Metric\", style=\"cyan\")\n",
    "            table.add_column(\"Value\", style=\"magenta\")\n",
    "            \n",
    "            table.add_row(\"Total rows\", str(len(data)))\n",
    "            table.add_row(\"Date range\", f\"{data['Date'].min()} to {data['Date'].max()}\")\n",
    "            table.add_row(\"Missing values\", str(data.isnull().sum().sum()))\n",
    "            \n",
    "            console.print(table)\n",
    "            console.print(\"\\n[bold]📈 First few rows:[/bold]\")\n",
    "            console.print(data.head().to_string())\n",
    "            \n",
    "        return data\n",
    "        \n",
    "    except Exception as e:\n",
    "        console.print(f\"[bold red]❌ An error occurred: {str(e)}[/bold red]\")\n",
    "        import traceback\n",
    "        traceback.print_exc()\n",
    "        return None"
   ]
  },
  {
   "cell_type": "markdown",
   "metadata": {},
   "source": [
    "## Fetch Market Data"
   ]
  },
  {
   "cell_type": "code",
   "execution_count": 2,
   "metadata": {},
   "outputs": [
    {
     "data": {
      "text/html": [
       "<pre style=\"white-space:pre;overflow-x:auto;line-height:normal;font-family:Menlo,'DejaVu Sans Mono',consolas,'Courier New',monospace\"><span style=\"color: #808000; text-decoration-color: #808000; font-weight: bold\">🔍 Fetching market data...</span>\n",
       "</pre>\n"
      ],
      "text/plain": [
       "\u001b[1;33m🔍 Fetching market data\u001b[0m\u001b[1;33m...\u001b[0m\n"
      ]
     },
     "metadata": {},
     "output_type": "display_data"
    },
    {
     "data": {
      "text/html": [
       "<pre style=\"white-space:pre;overflow-x:auto;line-height:normal;font-family:Menlo,'DejaVu Sans Mono',consolas,'Courier New',monospace\"><span style=\"font-weight: bold\">📅 Date range:</span> <span style=\"color: #008080; text-decoration-color: #008080; font-weight: bold\">2014</span>-<span style=\"color: #008080; text-decoration-color: #008080; font-weight: bold\">09</span>-<span style=\"color: #008080; text-decoration-color: #008080; font-weight: bold\">17</span> to <span style=\"color: #008080; text-decoration-color: #008080; font-weight: bold\">2025</span>-<span style=\"color: #008080; text-decoration-color: #008080; font-weight: bold\">06</span>-<span style=\"color: #008080; text-decoration-color: #008080; font-weight: bold\">09</span>\n",
       "</pre>\n"
      ],
      "text/plain": [
       "\u001b[1m📅 Date range:\u001b[0m \u001b[1;36m2014\u001b[0m-\u001b[1;36m09\u001b[0m-\u001b[1;36m17\u001b[0m to \u001b[1;36m2025\u001b[0m-\u001b[1;36m06\u001b[0m-\u001b[1;36m09\u001b[0m\n"
      ]
     },
     "metadata": {},
     "output_type": "display_data"
    },
    {
     "data": {
      "text/html": [
       "<pre style=\"white-space:pre;overflow-x:auto;line-height:normal;font-family:Menlo,'DejaVu Sans Mono',consolas,'Courier New',monospace\">\n",
       "<span style=\"color: #808000; text-decoration-color: #808000; font-weight: bold\">📊 Fetching Bitcoin data...</span>\n",
       "</pre>\n"
      ],
      "text/plain": [
       "\n",
       "\u001b[1;33m📊 Fetching Bitcoin data\u001b[0m\u001b[1;33m...\u001b[0m\n"
      ]
     },
     "metadata": {},
     "output_type": "display_data"
    },
    {
     "name": "stderr",
     "output_type": "stream",
     "text": [
      "/var/folders/4t/1r2mq59x0qb3qgs8zpf5v0h00000gn/T/ipykernel_84530/3582438524.py:34: FutureWarning: YF.download() has changed argument auto_adjust default to True\n",
      "  btc = yf.download('BTC-USD', start=start_date, end=end_date, progress=False)\n"
     ]
    },
    {
     "data": {
      "text/html": [
       "<pre style=\"white-space:pre;overflow-x:auto;line-height:normal;font-family:Menlo,'DejaVu Sans Mono',consolas,'Courier New',monospace\"><span style=\"color: #808000; text-decoration-color: #808000; font-weight: bold\">📈 Fetching NASDAQ data...</span>\n",
       "</pre>\n"
      ],
      "text/plain": [
       "\u001b[1;33m📈 Fetching NASDAQ data\u001b[0m\u001b[1;33m...\u001b[0m\n"
      ]
     },
     "metadata": {},
     "output_type": "display_data"
    },
    {
     "name": "stderr",
     "output_type": "stream",
     "text": [
      "/var/folders/4t/1r2mq59x0qb3qgs8zpf5v0h00000gn/T/ipykernel_84530/3582438524.py:43: FutureWarning: YF.download() has changed argument auto_adjust default to True\n",
      "  nasdaq = yf.download('^IXIC', start=start_date, end=end_date, progress=False)\n"
     ]
    },
    {
     "data": {
      "text/html": [
       "<pre style=\"white-space:pre;overflow-x:auto;line-height:normal;font-family:Menlo,'DejaVu Sans Mono',consolas,'Courier New',monospace\"><span style=\"color: #808000; text-decoration-color: #808000; font-weight: bold\">💰 Fetching Gold data...</span>\n",
       "</pre>\n"
      ],
      "text/plain": [
       "\u001b[1;33m💰 Fetching Gold data\u001b[0m\u001b[1;33m...\u001b[0m\n"
      ]
     },
     "metadata": {},
     "output_type": "display_data"
    },
    {
     "name": "stderr",
     "output_type": "stream",
     "text": [
      "/var/folders/4t/1r2mq59x0qb3qgs8zpf5v0h00000gn/T/ipykernel_84530/3582438524.py:49: FutureWarning: YF.download() has changed argument auto_adjust default to True\n",
      "  gold = yf.download('GC=F', start=start_date, end=end_date, progress=False)\n"
     ]
    },
    {
     "data": {
      "text/html": [
       "<pre style=\"white-space:pre;overflow-x:auto;line-height:normal;font-family:Menlo,'DejaVu Sans Mono',consolas,'Courier New',monospace\">\n",
       "<span style=\"color: #008000; text-decoration-color: #008000; font-weight: bold\">🔄 Processing Bitcoin data...</span>\n",
       "</pre>\n"
      ],
      "text/plain": [
       "\n",
       "\u001b[1;32m🔄 Processing Bitcoin data\u001b[0m\u001b[1;32m...\u001b[0m\n"
      ]
     },
     "metadata": {},
     "output_type": "display_data"
    },
    {
     "data": {
      "text/html": [
       "<pre style=\"white-space:pre;overflow-x:auto;line-height:normal;font-family:Menlo,'DejaVu Sans Mono',consolas,'Courier New',monospace\"><span style=\"color: #008000; text-decoration-color: #008000; font-weight: bold\">🔄 Processing NASDAQ data...</span>\n",
       "</pre>\n"
      ],
      "text/plain": [
       "\u001b[1;32m🔄 Processing NASDAQ data\u001b[0m\u001b[1;32m...\u001b[0m\n"
      ]
     },
     "metadata": {},
     "output_type": "display_data"
    },
    {
     "data": {
      "text/html": [
       "<pre style=\"white-space:pre;overflow-x:auto;line-height:normal;font-family:Menlo,'DejaVu Sans Mono',consolas,'Courier New',monospace\"><span style=\"color: #008000; text-decoration-color: #008000; font-weight: bold\">🔄 Processing Gold data...</span>\n",
       "</pre>\n"
      ],
      "text/plain": [
       "\u001b[1;32m🔄 Processing Gold data\u001b[0m\u001b[1;32m...\u001b[0m\n"
      ]
     },
     "metadata": {},
     "output_type": "display_data"
    },
    {
     "data": {
      "text/html": [
       "<pre style=\"white-space:pre;overflow-x:auto;line-height:normal;font-family:Menlo,'DejaVu Sans Mono',consolas,'Courier New',monospace\"><span style=\"color: #008000; text-decoration-color: #008000; font-weight: bold\">📈 Calculating trend...</span>\n",
       "</pre>\n"
      ],
      "text/plain": [
       "\u001b[1;32m📈 Calculating trend\u001b[0m\u001b[1;32m...\u001b[0m\n"
      ]
     },
     "metadata": {},
     "output_type": "display_data"
    },
    {
     "data": {
      "text/html": [
       "<pre style=\"white-space:pre;overflow-x:auto;line-height:normal;font-family:Menlo,'DejaVu Sans Mono',consolas,'Courier New',monospace\">\n",
       "<span style=\"color: #008000; text-decoration-color: #008000; font-weight: bold\">✅ Data processing complete!</span>\n",
       "</pre>\n"
      ],
      "text/plain": [
       "\n",
       "\u001b[1;32m✅ Data processing complete!\u001b[0m\n"
      ]
     },
     "metadata": {},
     "output_type": "display_data"
    },
    {
     "data": {
      "text/html": [
       "<pre style=\"white-space:pre;overflow-x:auto;line-height:normal;font-family:Menlo,'DejaVu Sans Mono',consolas,'Courier New',monospace\"><span style=\"font-style: italic\">                         Data Summary                          </span>\n",
       "┏━━━━━━━━━━━━━━━━┳━━━━━━━━━━━━━━━━━━━━━━━━━━━━━━━━━━━━━━━━━━━━┓\n",
       "┃<span style=\"font-weight: bold\"> Metric         </span>┃<span style=\"font-weight: bold\"> Value                                      </span>┃\n",
       "┡━━━━━━━━━━━━━━━━╇━━━━━━━━━━━━━━━━━━━━━━━━━━━━━━━━━━━━━━━━━━━━┩\n",
       "│<span style=\"color: #008080; text-decoration-color: #008080\"> Total rows     </span>│<span style=\"color: #800080; text-decoration-color: #800080\"> 3918                                       </span>│\n",
       "│<span style=\"color: #008080; text-decoration-color: #008080\"> Date range     </span>│<span style=\"color: #800080; text-decoration-color: #800080\"> 2014-09-17 00:00:00 to 2025-06-08 00:00:00 </span>│\n",
       "│<span style=\"color: #008080; text-decoration-color: #008080\"> Missing values </span>│<span style=\"color: #800080; text-decoration-color: #800080\"> 0                                          </span>│\n",
       "└────────────────┴────────────────────────────────────────────┘\n",
       "</pre>\n"
      ],
      "text/plain": [
       "\u001b[3m                         Data Summary                          \u001b[0m\n",
       "┏━━━━━━━━━━━━━━━━┳━━━━━━━━━━━━━━━━━━━━━━━━━━━━━━━━━━━━━━━━━━━━┓\n",
       "┃\u001b[1m \u001b[0m\u001b[1mMetric        \u001b[0m\u001b[1m \u001b[0m┃\u001b[1m \u001b[0m\u001b[1mValue                                     \u001b[0m\u001b[1m \u001b[0m┃\n",
       "┡━━━━━━━━━━━━━━━━╇━━━━━━━━━━━━━━━━━━━━━━━━━━━━━━━━━━━━━━━━━━━━┩\n",
       "│\u001b[36m \u001b[0m\u001b[36mTotal rows    \u001b[0m\u001b[36m \u001b[0m│\u001b[35m \u001b[0m\u001b[35m3918                                      \u001b[0m\u001b[35m \u001b[0m│\n",
       "│\u001b[36m \u001b[0m\u001b[36mDate range    \u001b[0m\u001b[36m \u001b[0m│\u001b[35m \u001b[0m\u001b[35m2014-09-17 00:00:00 to 2025-06-08 00:00:00\u001b[0m\u001b[35m \u001b[0m│\n",
       "│\u001b[36m \u001b[0m\u001b[36mMissing values\u001b[0m\u001b[36m \u001b[0m│\u001b[35m \u001b[0m\u001b[35m0                                         \u001b[0m\u001b[35m \u001b[0m│\n",
       "└────────────────┴────────────────────────────────────────────┘\n"
      ]
     },
     "metadata": {},
     "output_type": "display_data"
    },
    {
     "data": {
      "text/html": [
       "<pre style=\"white-space:pre;overflow-x:auto;line-height:normal;font-family:Menlo,'DejaVu Sans Mono',consolas,'Courier New',monospace\">\n",
       "<span style=\"font-weight: bold\">📈 First few rows:</span>\n",
       "</pre>\n"
      ],
      "text/plain": [
       "\n",
       "\u001b[1m📈 First few rows:\u001b[0m\n"
      ]
     },
     "metadata": {},
     "output_type": "display_data"
    },
    {
     "data": {
      "text/html": [
       "<pre style=\"white-space:pre;overflow-x:auto;line-height:normal;font-family:Menlo,'DejaVu Sans Mono',consolas,'Courier New',monospace\">                 Date    BTC Open    BTC High     BTC Low   BTC Close  BTC Volume  NASDAQ Open  NASDAQ High   \n",
       "NASDAQ Low  NASDAQ Close  NASDAQ Volume  Gold Open  Gold High  Gold Low  Gold Close  Gold Volume  Trend\n",
       "Date                                                                                                               \n",
       "<span style=\"color: #008080; text-decoration-color: #008080; font-weight: bold\">2014</span>-<span style=\"color: #008080; text-decoration-color: #008080; font-weight: bold\">09</span>-<span style=\"color: #008080; text-decoration-color: #008080; font-weight: bold\">17</span> <span style=\"color: #008080; text-decoration-color: #008080; font-weight: bold\">2014</span>-<span style=\"color: #008080; text-decoration-color: #008080; font-weight: bold\">09</span>-<span style=\"color: #008080; text-decoration-color: #008080; font-weight: bold\">17</span>  <span style=\"color: #008080; text-decoration-color: #008080; font-weight: bold\">465.864014</span>  <span style=\"color: #008080; text-decoration-color: #008080; font-weight: bold\">468.174011</span>  <span style=\"color: #008080; text-decoration-color: #008080; font-weight: bold\">452.421997</span>  <span style=\"color: #008080; text-decoration-color: #008080; font-weight: bold\">457.334015</span>    <span style=\"color: #008080; text-decoration-color: #008080; font-weight: bold\">21056800</span>  <span style=\"color: #008080; text-decoration-color: #008080; font-weight: bold\">4553.959961</span>  <span style=\"color: #008080; text-decoration-color: #008080; font-weight: bold\">4582.399902</span>  \n",
       "<span style=\"color: #008080; text-decoration-color: #008080; font-weight: bold\">4539.359863</span>   <span style=\"color: #008080; text-decoration-color: #008080; font-weight: bold\">4562.189941</span>     <span style=\"color: #008080; text-decoration-color: #008080; font-weight: bold\">1796710000</span>     <span style=\"color: #008080; text-decoration-color: #008080; font-weight: bold\">1236.2</span>     <span style=\"color: #008080; text-decoration-color: #008080; font-weight: bold\">1236.2</span>    <span style=\"color: #008080; text-decoration-color: #008080; font-weight: bold\">1221.9</span>      <span style=\"color: #008080; text-decoration-color: #008080; font-weight: bold\">1234.4</span>           <span style=\"color: #008080; text-decoration-color: #008080; font-weight: bold\">10</span>     <span style=\"color: #008080; text-decoration-color: #008080; font-weight: bold\">-1</span>\n",
       "<span style=\"color: #008080; text-decoration-color: #008080; font-weight: bold\">2014</span>-<span style=\"color: #008080; text-decoration-color: #008080; font-weight: bold\">09</span>-<span style=\"color: #008080; text-decoration-color: #008080; font-weight: bold\">18</span> <span style=\"color: #008080; text-decoration-color: #008080; font-weight: bold\">2014</span>-<span style=\"color: #008080; text-decoration-color: #008080; font-weight: bold\">09</span>-<span style=\"color: #008080; text-decoration-color: #008080; font-weight: bold\">18</span>  <span style=\"color: #008080; text-decoration-color: #008080; font-weight: bold\">456.859985</span>  <span style=\"color: #008080; text-decoration-color: #008080; font-weight: bold\">456.859985</span>  <span style=\"color: #008080; text-decoration-color: #008080; font-weight: bold\">413.104004</span>  <span style=\"color: #008080; text-decoration-color: #008080; font-weight: bold\">424.440002</span>    <span style=\"color: #008080; text-decoration-color: #008080; font-weight: bold\">34483200</span>  <span style=\"color: #008080; text-decoration-color: #008080; font-weight: bold\">4575.740234</span>  <span style=\"color: #008080; text-decoration-color: #008080; font-weight: bold\">4593.979980</span>  \n",
       "<span style=\"color: #008080; text-decoration-color: #008080; font-weight: bold\">4572.620117</span>   <span style=\"color: #008080; text-decoration-color: #008080; font-weight: bold\">4593.430176</span>     <span style=\"color: #008080; text-decoration-color: #008080; font-weight: bold\">1774840000</span>     <span style=\"color: #008080; text-decoration-color: #008080; font-weight: bold\">1216.2</span>     <span style=\"color: #008080; text-decoration-color: #008080; font-weight: bold\">1225.7</span>    <span style=\"color: #008080; text-decoration-color: #008080; font-weight: bold\">1216.2</span>      <span style=\"color: #008080; text-decoration-color: #008080; font-weight: bold\">1225.7</span>            <span style=\"color: #008080; text-decoration-color: #008080; font-weight: bold\">5</span>     <span style=\"color: #008080; text-decoration-color: #008080; font-weight: bold\">-1</span>\n",
       "<span style=\"color: #008080; text-decoration-color: #008080; font-weight: bold\">2014</span>-<span style=\"color: #008080; text-decoration-color: #008080; font-weight: bold\">09</span>-<span style=\"color: #008080; text-decoration-color: #008080; font-weight: bold\">19</span> <span style=\"color: #008080; text-decoration-color: #008080; font-weight: bold\">2014</span>-<span style=\"color: #008080; text-decoration-color: #008080; font-weight: bold\">09</span>-<span style=\"color: #008080; text-decoration-color: #008080; font-weight: bold\">19</span>  <span style=\"color: #008080; text-decoration-color: #008080; font-weight: bold\">424.102997</span>  <span style=\"color: #008080; text-decoration-color: #008080; font-weight: bold\">427.834991</span>  <span style=\"color: #008080; text-decoration-color: #008080; font-weight: bold\">384.532013</span>  <span style=\"color: #008080; text-decoration-color: #008080; font-weight: bold\">394.795990</span>    <span style=\"color: #008080; text-decoration-color: #008080; font-weight: bold\">37919700</span>  <span style=\"color: #008080; text-decoration-color: #008080; font-weight: bold\">4606.129883</span>  <span style=\"color: #008080; text-decoration-color: #008080; font-weight: bold\">4610.569824</span>  \n",
       "<span style=\"color: #008080; text-decoration-color: #008080; font-weight: bold\">4563.439941</span>   <span style=\"color: #008080; text-decoration-color: #008080; font-weight: bold\">4579.790039</span>     <span style=\"color: #008080; text-decoration-color: #008080; font-weight: bold\">3178490000</span>     <span style=\"color: #008080; text-decoration-color: #008080; font-weight: bold\">1218.3</span>     <span style=\"color: #008080; text-decoration-color: #008080; font-weight: bold\">1218.3</span>    <span style=\"color: #008080; text-decoration-color: #008080; font-weight: bold\">1215.3</span>      <span style=\"color: #008080; text-decoration-color: #008080; font-weight: bold\">1215.3</span>            <span style=\"color: #008080; text-decoration-color: #008080; font-weight: bold\">4</span>     <span style=\"color: #008080; text-decoration-color: #008080; font-weight: bold\">-1</span>\n",
       "<span style=\"color: #008080; text-decoration-color: #008080; font-weight: bold\">2014</span>-<span style=\"color: #008080; text-decoration-color: #008080; font-weight: bold\">09</span>-<span style=\"color: #008080; text-decoration-color: #008080; font-weight: bold\">20</span> <span style=\"color: #008080; text-decoration-color: #008080; font-weight: bold\">2014</span>-<span style=\"color: #008080; text-decoration-color: #008080; font-weight: bold\">09</span>-<span style=\"color: #008080; text-decoration-color: #008080; font-weight: bold\">20</span>  <span style=\"color: #008080; text-decoration-color: #008080; font-weight: bold\">394.673004</span>  <span style=\"color: #008080; text-decoration-color: #008080; font-weight: bold\">423.295990</span>  <span style=\"color: #008080; text-decoration-color: #008080; font-weight: bold\">389.882996</span>  <span style=\"color: #008080; text-decoration-color: #008080; font-weight: bold\">408.903992</span>    <span style=\"color: #008080; text-decoration-color: #008080; font-weight: bold\">36863600</span>  <span style=\"color: #008080; text-decoration-color: #008080; font-weight: bold\">4606.129883</span>  <span style=\"color: #008080; text-decoration-color: #008080; font-weight: bold\">4610.569824</span>  \n",
       "<span style=\"color: #008080; text-decoration-color: #008080; font-weight: bold\">4563.439941</span>   <span style=\"color: #008080; text-decoration-color: #008080; font-weight: bold\">4579.790039</span>     <span style=\"color: #008080; text-decoration-color: #008080; font-weight: bold\">3178490000</span>     <span style=\"color: #008080; text-decoration-color: #008080; font-weight: bold\">1218.3</span>     <span style=\"color: #008080; text-decoration-color: #008080; font-weight: bold\">1218.3</span>    <span style=\"color: #008080; text-decoration-color: #008080; font-weight: bold\">1215.3</span>      <span style=\"color: #008080; text-decoration-color: #008080; font-weight: bold\">1215.3</span>            <span style=\"color: #008080; text-decoration-color: #008080; font-weight: bold\">4</span>      <span style=\"color: #008080; text-decoration-color: #008080; font-weight: bold\">1</span>\n",
       "<span style=\"color: #008080; text-decoration-color: #008080; font-weight: bold\">2014</span>-<span style=\"color: #008080; text-decoration-color: #008080; font-weight: bold\">09</span>-<span style=\"color: #008080; text-decoration-color: #008080; font-weight: bold\">21</span> <span style=\"color: #008080; text-decoration-color: #008080; font-weight: bold\">2014</span>-<span style=\"color: #008080; text-decoration-color: #008080; font-weight: bold\">09</span>-<span style=\"color: #008080; text-decoration-color: #008080; font-weight: bold\">21</span>  <span style=\"color: #008080; text-decoration-color: #008080; font-weight: bold\">408.084991</span>  <span style=\"color: #008080; text-decoration-color: #008080; font-weight: bold\">412.425995</span>  <span style=\"color: #008080; text-decoration-color: #008080; font-weight: bold\">393.181000</span>  <span style=\"color: #008080; text-decoration-color: #008080; font-weight: bold\">398.821014</span>    <span style=\"color: #008080; text-decoration-color: #008080; font-weight: bold\">26580100</span>  <span style=\"color: #008080; text-decoration-color: #008080; font-weight: bold\">4606.129883</span>  <span style=\"color: #008080; text-decoration-color: #008080; font-weight: bold\">4610.569824</span>  \n",
       "<span style=\"color: #008080; text-decoration-color: #008080; font-weight: bold\">4563.439941</span>   <span style=\"color: #008080; text-decoration-color: #008080; font-weight: bold\">4579.790039</span>     <span style=\"color: #008080; text-decoration-color: #008080; font-weight: bold\">3178490000</span>     <span style=\"color: #008080; text-decoration-color: #008080; font-weight: bold\">1218.3</span>     <span style=\"color: #008080; text-decoration-color: #008080; font-weight: bold\">1218.3</span>    <span style=\"color: #008080; text-decoration-color: #008080; font-weight: bold\">1215.3</span>      <span style=\"color: #008080; text-decoration-color: #008080; font-weight: bold\">1215.3</span>            <span style=\"color: #008080; text-decoration-color: #008080; font-weight: bold\">4</span>     <span style=\"color: #008080; text-decoration-color: #008080; font-weight: bold\">-1</span>\n",
       "</pre>\n"
      ],
      "text/plain": [
       "                 Date    BTC Open    BTC High     BTC Low   BTC Close  BTC Volume  NASDAQ Open  NASDAQ High   \n",
       "NASDAQ Low  NASDAQ Close  NASDAQ Volume  Gold Open  Gold High  Gold Low  Gold Close  Gold Volume  Trend\n",
       "Date                                                                                                               \n",
       "\u001b[1;36m2014\u001b[0m-\u001b[1;36m09\u001b[0m-\u001b[1;36m17\u001b[0m \u001b[1;36m2014\u001b[0m-\u001b[1;36m09\u001b[0m-\u001b[1;36m17\u001b[0m  \u001b[1;36m465.864014\u001b[0m  \u001b[1;36m468.174011\u001b[0m  \u001b[1;36m452.421997\u001b[0m  \u001b[1;36m457.334015\u001b[0m    \u001b[1;36m21056800\u001b[0m  \u001b[1;36m4553.959961\u001b[0m  \u001b[1;36m4582.399902\u001b[0m  \n",
       "\u001b[1;36m4539.359863\u001b[0m   \u001b[1;36m4562.189941\u001b[0m     \u001b[1;36m1796710000\u001b[0m     \u001b[1;36m1236.2\u001b[0m     \u001b[1;36m1236.2\u001b[0m    \u001b[1;36m1221.9\u001b[0m      \u001b[1;36m1234.4\u001b[0m           \u001b[1;36m10\u001b[0m     \u001b[1;36m-1\u001b[0m\n",
       "\u001b[1;36m2014\u001b[0m-\u001b[1;36m09\u001b[0m-\u001b[1;36m18\u001b[0m \u001b[1;36m2014\u001b[0m-\u001b[1;36m09\u001b[0m-\u001b[1;36m18\u001b[0m  \u001b[1;36m456.859985\u001b[0m  \u001b[1;36m456.859985\u001b[0m  \u001b[1;36m413.104004\u001b[0m  \u001b[1;36m424.440002\u001b[0m    \u001b[1;36m34483200\u001b[0m  \u001b[1;36m4575.740234\u001b[0m  \u001b[1;36m4593.979980\u001b[0m  \n",
       "\u001b[1;36m4572.620117\u001b[0m   \u001b[1;36m4593.430176\u001b[0m     \u001b[1;36m1774840000\u001b[0m     \u001b[1;36m1216.2\u001b[0m     \u001b[1;36m1225.7\u001b[0m    \u001b[1;36m1216.2\u001b[0m      \u001b[1;36m1225.7\u001b[0m            \u001b[1;36m5\u001b[0m     \u001b[1;36m-1\u001b[0m\n",
       "\u001b[1;36m2014\u001b[0m-\u001b[1;36m09\u001b[0m-\u001b[1;36m19\u001b[0m \u001b[1;36m2014\u001b[0m-\u001b[1;36m09\u001b[0m-\u001b[1;36m19\u001b[0m  \u001b[1;36m424.102997\u001b[0m  \u001b[1;36m427.834991\u001b[0m  \u001b[1;36m384.532013\u001b[0m  \u001b[1;36m394.795990\u001b[0m    \u001b[1;36m37919700\u001b[0m  \u001b[1;36m4606.129883\u001b[0m  \u001b[1;36m4610.569824\u001b[0m  \n",
       "\u001b[1;36m4563.439941\u001b[0m   \u001b[1;36m4579.790039\u001b[0m     \u001b[1;36m3178490000\u001b[0m     \u001b[1;36m1218.3\u001b[0m     \u001b[1;36m1218.3\u001b[0m    \u001b[1;36m1215.3\u001b[0m      \u001b[1;36m1215.3\u001b[0m            \u001b[1;36m4\u001b[0m     \u001b[1;36m-1\u001b[0m\n",
       "\u001b[1;36m2014\u001b[0m-\u001b[1;36m09\u001b[0m-\u001b[1;36m20\u001b[0m \u001b[1;36m2014\u001b[0m-\u001b[1;36m09\u001b[0m-\u001b[1;36m20\u001b[0m  \u001b[1;36m394.673004\u001b[0m  \u001b[1;36m423.295990\u001b[0m  \u001b[1;36m389.882996\u001b[0m  \u001b[1;36m408.903992\u001b[0m    \u001b[1;36m36863600\u001b[0m  \u001b[1;36m4606.129883\u001b[0m  \u001b[1;36m4610.569824\u001b[0m  \n",
       "\u001b[1;36m4563.439941\u001b[0m   \u001b[1;36m4579.790039\u001b[0m     \u001b[1;36m3178490000\u001b[0m     \u001b[1;36m1218.3\u001b[0m     \u001b[1;36m1218.3\u001b[0m    \u001b[1;36m1215.3\u001b[0m      \u001b[1;36m1215.3\u001b[0m            \u001b[1;36m4\u001b[0m      \u001b[1;36m1\u001b[0m\n",
       "\u001b[1;36m2014\u001b[0m-\u001b[1;36m09\u001b[0m-\u001b[1;36m21\u001b[0m \u001b[1;36m2014\u001b[0m-\u001b[1;36m09\u001b[0m-\u001b[1;36m21\u001b[0m  \u001b[1;36m408.084991\u001b[0m  \u001b[1;36m412.425995\u001b[0m  \u001b[1;36m393.181000\u001b[0m  \u001b[1;36m398.821014\u001b[0m    \u001b[1;36m26580100\u001b[0m  \u001b[1;36m4606.129883\u001b[0m  \u001b[1;36m4610.569824\u001b[0m  \n",
       "\u001b[1;36m4563.439941\u001b[0m   \u001b[1;36m4579.790039\u001b[0m     \u001b[1;36m3178490000\u001b[0m     \u001b[1;36m1218.3\u001b[0m     \u001b[1;36m1218.3\u001b[0m    \u001b[1;36m1215.3\u001b[0m      \u001b[1;36m1215.3\u001b[0m            \u001b[1;36m4\u001b[0m     \u001b[1;36m-1\u001b[0m\n"
      ]
     },
     "metadata": {},
     "output_type": "display_data"
    }
   ],
   "source": [
    "data = fetch_market_data(verbose=True)\n",
    "if data is not None:\n",
    "    data.to_csv('market_data.csv', index=False)"
   ]
  },
  {
   "cell_type": "markdown",
   "metadata": {},
   "source": [
    "# EDA\n"
   ]
  },
  {
   "cell_type": "code",
   "execution_count": 3,
   "metadata": {},
   "outputs": [],
   "source": [
    "# Import required libraries for EDA\n",
    "import pandas as pd\n",
    "import numpy as np\n",
    "import matplotlib.pyplot as plt\n",
    "import seaborn as sns\n",
    "from datetime import datetime"
   ]
  },
  {
   "cell_type": "code",
   "execution_count": 4,
   "metadata": {},
   "outputs": [
    {
     "name": "stdout",
     "output_type": "stream",
     "text": [
      "1. Basic Data Information\n",
      "\n",
      "Dataset Shape: (3918, 17)\n",
      "\n",
      "Data Types:\n",
      "Date             datetime64[ns]\n",
      "BTC Open                float64\n",
      "BTC High                float64\n",
      "BTC Low                 float64\n",
      "BTC Close               float64\n",
      "BTC Volume                int64\n",
      "NASDAQ Open             float64\n",
      "NASDAQ High             float64\n",
      "NASDAQ Low              float64\n",
      "NASDAQ Close            float64\n",
      "NASDAQ Volume             int64\n",
      "Gold Open               float64\n",
      "Gold High               float64\n",
      "Gold Low                float64\n",
      "Gold Close              float64\n",
      "Gold Volume               int64\n",
      "Trend                     int64\n",
      "dtype: object\n",
      "\n",
      "Missing Values:\n",
      "Date             0\n",
      "BTC Open         0\n",
      "BTC High         0\n",
      "BTC Low          0\n",
      "BTC Close        0\n",
      "BTC Volume       0\n",
      "NASDAQ Open      0\n",
      "NASDAQ High      0\n",
      "NASDAQ Low       0\n",
      "NASDAQ Close     0\n",
      "NASDAQ Volume    0\n",
      "Gold Open        0\n",
      "Gold High        0\n",
      "Gold Low         0\n",
      "Gold Close       0\n",
      "Gold Volume      0\n",
      "Trend            0\n",
      "dtype: int64\n"
     ]
    },
    {
     "name": "stderr",
     "output_type": "stream",
     "text": [
      "/var/folders/4t/1r2mq59x0qb3qgs8zpf5v0h00000gn/T/ipykernel_84530/26297628.py:2: MatplotlibDeprecationWarning: The seaborn styles shipped by Matplotlib are deprecated since 3.6, as they no longer correspond to the styles shipped by seaborn. However, they will remain available as 'seaborn-v0_8-<style>'. Alternatively, directly use the seaborn API instead.\n",
      "  plt.style.use('seaborn')\n"
     ]
    }
   ],
   "source": [
    "# Set style for better visualizations\n",
    "plt.style.use('seaborn')\n",
    "sns.set_palette('husl')\n",
    "\n",
    "# 1. Basic Data Information\n",
    "print(\"1. Basic Data Information\")\n",
    "print(\"\\nDataset Shape:\", data.shape)\n",
    "print(\"\\nData Types:\")\n",
    "print(data.dtypes)\n",
    "print(\"\\nMissing Values:\")\n",
    "print(data.isnull().sum())"
   ]
  },
  {
   "cell_type": "code",
   "execution_count": 5,
   "metadata": {},
   "outputs": [
    {
     "data": {
      "image/png": "[encoded data removed]",
      "text/plain": [
       "<Figure size 1500x800 with 1 Axes>"
      ]
     },
     "metadata": {},
     "output_type": "display_data"
    }
   ],
   "source": [
    "# 2. Time Series Analysis\n",
    "plt.figure(figsize=(15, 8))\n",
    "plt.plot(data['Date'], data['BTC Close'], label='Bitcoin', alpha=0.7)\n",
    "plt.plot(data['Date'], data['NASDAQ Close'], label='NASDAQ', alpha=0.7)\n",
    "plt.plot(data['Date'], data['Gold Close'], label='Gold', alpha=0.7)\n",
    "plt.title('Price Trends Over Time')\n",
    "plt.xlabel('Date')\n",
    "plt.ylabel('Price')\n",
    "plt.legend()\n",
    "plt.show()"
   ]
  },
  {
   "cell_type": "code",
   "execution_count": 6,
   "metadata": {},
   "outputs": [
    {
     "data": {
      "image/png": "[encoded data removed]",
      "text/plain": [
       "<Figure size 1000x800 with 2 Axes>"
      ]
     },
     "metadata": {},
     "output_type": "display_data"
    },
    {
     "name": "stdout",
     "output_type": "stream",
     "text": [
      "                BTC Returns  NASDAQ Returns  Gold Returns\n",
      "BTC Returns        1.000000        0.221404      0.077151\n",
      "NASDAQ Returns     0.221404        1.000000      0.027373\n",
      "Gold Returns       0.077151        0.027373      1.000000\n"
     ]
    },
    {
     "data": {
      "image/png": "[encoded data removed]",
      "text/plain": [
       "<Figure size 800x550 with 2 Axes>"
      ]
     },
     "metadata": {},
     "output_type": "display_data"
    }
   ],
   "source": [
    "# 3. Correlation Analysis\n",
    "\n",
    "# For long term view - Calculate correlations between closing prices\n",
    "correlation_matrix = data[['BTC Close', 'NASDAQ Close', 'Gold Close']].corr()\n",
    "\n",
    "# Plot correlation heatmap\n",
    "plt.figure(figsize=(10, 8))\n",
    "sns.heatmap(correlation_matrix, annot=True, cmap='coolwarm', center=0)\n",
    "plt.title('Correlation Matrix of Closing Prices')\n",
    "plt.show()\n",
    "\n",
    "# For short term view - Calculate daily returns\n",
    "data['BTC Returns'] = data['BTC Close'].pct_change()\n",
    "data['NASDAQ Returns'] = data['NASDAQ Close'].pct_change()\n",
    "data['Gold Returns'] = data['Gold Close'].pct_change()\n",
    "\n",
    "# Correlation of returns\n",
    "returns_corr = data[['BTC Returns', 'NASDAQ Returns', 'Gold Returns']].corr()\n",
    "print(returns_corr)\n",
    "sns.heatmap(returns_corr, annot=True, cmap='coolwarm', center=0)\n",
    "plt.title('Correlation Matrix of Daily Returns')\n",
    "plt.show()"
   ]
  },
  {
   "cell_type": "code",
   "execution_count": 7,
   "metadata": {},
   "outputs": [
    {
     "data": {
      "image/png": "[encoded data removed]",
      "text/plain": [
       "<Figure size 1500x800 with 1 Axes>"
      ]
     },
     "metadata": {},
     "output_type": "display_data"
    }
   ],
   "source": [
    "# 4. Volume Analysis\n",
    "# Plot volume trends\n",
    "plt.figure(figsize=(15, 8))\n",
    "plt.plot(data['Date'], data['BTC Volume'], label='Bitcoin Volume', alpha=0.7)\n",
    "plt.plot(data['Date'], data['NASDAQ Volume'], label='NASDAQ Volume', alpha=0.7)\n",
    "plt.plot(data['Date'], data['Gold Volume'], label='Gold Volume', alpha=0.7)\n",
    "plt.title('Trading Volume Over Time')\n",
    "plt.xlabel('Date')\n",
    "plt.ylabel('Volume')\n",
    "plt.legend()\n",
    "plt.show()"
   ]
  },
  {
   "cell_type": "code",
   "execution_count": 8,
   "metadata": {},
   "outputs": [
    {
     "data": {
      "image/png": "[encoded data removed]",
      "text/plain": [
       "<Figure size 1500x800 with 1 Axes>"
      ]
     },
     "metadata": {},
     "output_type": "display_data"
    }
   ],
   "source": [
    "# 5. Price Range Analysis\n",
    "# Calculate daily price ranges\n",
    "data['BTC Range'] = data['BTC High'] - data['BTC Low']\n",
    "data['NASDAQ Range'] = data['NASDAQ High'] - data['NASDAQ Low']\n",
    "data['Gold Range'] = data['Gold High'] - data['Gold Low']\n",
    "\n",
    "# Plot price ranges\n",
    "plt.figure(figsize=(15, 8))\n",
    "plt.plot(data['Date'], data['BTC Range'], label='Bitcoin Range', alpha=0.7)\n",
    "plt.plot(data['Date'], data['NASDAQ Range'], label='NASDAQ Range', alpha=0.7)\n",
    "plt.plot(data['Date'], data['Gold Range'], label='Gold Range', alpha=0.7)\n",
    "plt.title('Daily Price Ranges Over Time')\n",
    "plt.xlabel('Date')\n",
    "plt.ylabel('Price Range')\n",
    "plt.legend()\n",
    "plt.show()"
   ]
  },
  {
   "cell_type": "code",
   "execution_count": 9,
   "metadata": {},
   "outputs": [
    {
     "data": {
      "image/png": "[encoded data removed]",
      "text/plain": [
       "<Figure size 1500x500 with 3 Axes>"
      ]
     },
     "metadata": {},
     "output_type": "display_data"
    }
   ],
   "source": [
    "# 6. Returns Analysis\n",
    "# Plot return distributions\n",
    "fig, axes = plt.subplots(1, 3, figsize=(15, 5))\n",
    "sns.histplot(data['BTC Returns'].dropna(), ax=axes[0], bins=50)\n",
    "axes[0].set_title('Bitcoin Returns Distribution')\n",
    "sns.histplot(data['NASDAQ Returns'].dropna(), ax=axes[1], bins=50)\n",
    "axes[1].set_title('NASDAQ Returns Distribution')\n",
    "sns.histplot(data['Gold Returns'].dropna(), ax=axes[2], bins=50)\n",
    "axes[2].set_title('Gold Returns Distribution')\n",
    "plt.tight_layout()\n",
    "plt.show()"
   ]
  },
  {
   "cell_type": "code",
   "execution_count": 10,
   "metadata": {},
   "outputs": [
    {
     "data": {
      "image/png": "[encoded data removed]",
      "text/plain": [
       "<Figure size 800x600 with 1 Axes>"
      ]
     },
     "metadata": {},
     "output_type": "display_data"
    }
   ],
   "source": [
    "# 7. Trend Analysis\n",
    "# Analyze trend distribution\n",
    "trend_counts = data['Trend'].value_counts()\n",
    "plt.figure(figsize=(8, 6))\n",
    "trend_counts.plot(kind='bar')\n",
    "plt.title('Distribution of Price Trends')\n",
    "plt.xlabel('Trend (-1: Down, 1: Up)')\n",
    "plt.ylabel('Count')\n",
    "plt.show()"
   ]
  },
  {
   "cell_type": "code",
   "execution_count": 11,
   "metadata": {},
   "outputs": [
    {
     "name": "stdout",
     "output_type": "stream",
     "text": [
      "\n",
      "9. Summary Statistics\n",
      "\n",
      "Bitcoin Price Statistics:\n",
      "count      3918.000000\n",
      "mean      22632.465445\n",
      "std       26311.110450\n",
      "min         178.102997\n",
      "25%        2052.082458\n",
      "50%        9857.380860\n",
      "75%       36845.432618\n",
      "max      111673.281250\n",
      "Name: BTC Close, dtype: float64\n",
      "\n",
      "NASDAQ Price Statistics:\n",
      "count     3918.000000\n",
      "mean     10062.227339\n",
      "std       4428.790960\n",
      "min       4213.660156\n",
      "25%       6134.892578\n",
      "50%       8641.224610\n",
      "75%      13694.620117\n",
      "max      20173.890625\n",
      "Name: NASDAQ Close, dtype: float64\n",
      "\n",
      "Gold Price Statistics:\n",
      "count    3918.000000\n",
      "mean     1650.184788\n",
      "std       481.018425\n",
      "min      1050.800000\n",
      "25%      1255.900000\n",
      "50%      1557.650000\n",
      "75%      1898.600000\n",
      "max      3411.400000\n",
      "Name: Gold Close, dtype: float64\n"
     ]
    }
   ],
   "source": [
    "# 8. Summary Statistics\n",
    "print(\"\\n9. Summary Statistics\")\n",
    "print(\"\\nBitcoin Price Statistics:\")\n",
    "print(data['BTC Close'].describe())\n",
    "print(\"\\nNASDAQ Price Statistics:\")\n",
    "print(data['NASDAQ Close'].describe())\n",
    "print(\"\\nGold Price Statistics:\")\n",
    "print(data['Gold Close'].describe())"
   ]
  },
  {
   "cell_type": "markdown",
   "metadata": {},
   "source": [
    "# 2. Initial Predictive model"
   ]
  },
  {
   "cell_type": "markdown",
   "metadata": {},
   "source": [
    "### Make sure data is still appropriate for modelling"
   ]
  },
  {
   "cell_type": "code",
   "execution_count": 12,
   "metadata": {},
   "outputs": [
    {
     "data": {
      "text/html": [
       "<div>\n",
       "<style scoped>\n",
       "    .dataframe tbody tr th:only-of-type {\n",
       "        vertical-align: middle;\n",
       "    }\n",
       "\n",
       "    .dataframe tbody tr th {\n",
       "        vertical-align: top;\n",
       "    }\n",
       "\n",
       "    .dataframe thead th {\n",
       "        text-align: right;\n",
       "    }\n",
       "</style>\n",
       "<table border=\"1\" class=\"dataframe\">\n",
       "  <thead>\n",
       "    <tr style=\"text-align: right;\">\n",
       "      <th></th>\n",
       "      <th>Date</th>\n",
       "      <th>BTC Open</th>\n",
       "      <th>BTC High</th>\n",
       "      <th>BTC Low</th>\n",
       "      <th>BTC Close</th>\n",
       "      <th>BTC Volume</th>\n",
       "      <th>NASDAQ Open</th>\n",
       "      <th>NASDAQ High</th>\n",
       "      <th>NASDAQ Low</th>\n",
       "      <th>NASDAQ Close</th>\n",
       "      <th>...</th>\n",
       "      <th>Gold Low</th>\n",
       "      <th>Gold Close</th>\n",
       "      <th>Gold Volume</th>\n",
       "      <th>Trend</th>\n",
       "      <th>BTC Returns</th>\n",
       "      <th>NASDAQ Returns</th>\n",
       "      <th>Gold Returns</th>\n",
       "      <th>BTC Range</th>\n",
       "      <th>NASDAQ Range</th>\n",
       "      <th>Gold Range</th>\n",
       "    </tr>\n",
       "    <tr>\n",
       "      <th>Date</th>\n",
       "      <th></th>\n",
       "      <th></th>\n",
       "      <th></th>\n",
       "      <th></th>\n",
       "      <th></th>\n",
       "      <th></th>\n",
       "      <th></th>\n",
       "      <th></th>\n",
       "      <th></th>\n",
       "      <th></th>\n",
       "      <th></th>\n",
       "      <th></th>\n",
       "      <th></th>\n",
       "      <th></th>\n",
       "      <th></th>\n",
       "      <th></th>\n",
       "      <th></th>\n",
       "      <th></th>\n",
       "      <th></th>\n",
       "      <th></th>\n",
       "      <th></th>\n",
       "    </tr>\n",
       "  </thead>\n",
       "  <tbody>\n",
       "    <tr>\n",
       "      <th>2014-09-17</th>\n",
       "      <td>2014-09-17</td>\n",
       "      <td>465.864014</td>\n",
       "      <td>468.174011</td>\n",
       "      <td>452.421997</td>\n",
       "      <td>457.334015</td>\n",
       "      <td>21056800</td>\n",
       "      <td>4553.959961</td>\n",
       "      <td>4582.399902</td>\n",
       "      <td>4539.359863</td>\n",
       "      <td>4562.189941</td>\n",
       "      <td>...</td>\n",
       "      <td>1221.9</td>\n",
       "      <td>1234.4</td>\n",
       "      <td>10</td>\n",
       "      <td>-1</td>\n",
       "      <td>NaN</td>\n",
       "      <td>NaN</td>\n",
       "      <td>NaN</td>\n",
       "      <td>15.752014</td>\n",
       "      <td>43.040039</td>\n",
       "      <td>14.3</td>\n",
       "    </tr>\n",
       "    <tr>\n",
       "      <th>2014-09-18</th>\n",
       "      <td>2014-09-18</td>\n",
       "      <td>456.859985</td>\n",
       "      <td>456.859985</td>\n",
       "      <td>413.104004</td>\n",
       "      <td>424.440002</td>\n",
       "      <td>34483200</td>\n",
       "      <td>4575.740234</td>\n",
       "      <td>4593.979980</td>\n",
       "      <td>4572.620117</td>\n",
       "      <td>4593.430176</td>\n",
       "      <td>...</td>\n",
       "      <td>1216.2</td>\n",
       "      <td>1225.7</td>\n",
       "      <td>5</td>\n",
       "      <td>-1</td>\n",
       "      <td>-0.071926</td>\n",
       "      <td>0.006848</td>\n",
       "      <td>-0.007048</td>\n",
       "      <td>43.755981</td>\n",
       "      <td>21.359863</td>\n",
       "      <td>9.5</td>\n",
       "    </tr>\n",
       "    <tr>\n",
       "      <th>2014-09-19</th>\n",
       "      <td>2014-09-19</td>\n",
       "      <td>424.102997</td>\n",
       "      <td>427.834991</td>\n",
       "      <td>384.532013</td>\n",
       "      <td>394.795990</td>\n",
       "      <td>37919700</td>\n",
       "      <td>4606.129883</td>\n",
       "      <td>4610.569824</td>\n",
       "      <td>4563.439941</td>\n",
       "      <td>4579.790039</td>\n",
       "      <td>...</td>\n",
       "      <td>1215.3</td>\n",
       "      <td>1215.3</td>\n",
       "      <td>4</td>\n",
       "      <td>-1</td>\n",
       "      <td>-0.069843</td>\n",
       "      <td>-0.002969</td>\n",
       "      <td>-0.008485</td>\n",
       "      <td>43.302978</td>\n",
       "      <td>47.129883</td>\n",
       "      <td>3.0</td>\n",
       "    </tr>\n",
       "    <tr>\n",
       "      <th>2014-09-20</th>\n",
       "      <td>2014-09-20</td>\n",
       "      <td>394.673004</td>\n",
       "      <td>423.295990</td>\n",
       "      <td>389.882996</td>\n",
       "      <td>408.903992</td>\n",
       "      <td>36863600</td>\n",
       "      <td>4606.129883</td>\n",
       "      <td>4610.569824</td>\n",
       "      <td>4563.439941</td>\n",
       "      <td>4579.790039</td>\n",
       "      <td>...</td>\n",
       "      <td>1215.3</td>\n",
       "      <td>1215.3</td>\n",
       "      <td>4</td>\n",
       "      <td>1</td>\n",
       "      <td>0.035735</td>\n",
       "      <td>0.000000</td>\n",
       "      <td>0.000000</td>\n",
       "      <td>33.412994</td>\n",
       "      <td>47.129883</td>\n",
       "      <td>3.0</td>\n",
       "    </tr>\n",
       "    <tr>\n",
       "      <th>2014-09-21</th>\n",
       "      <td>2014-09-21</td>\n",
       "      <td>408.084991</td>\n",
       "      <td>412.425995</td>\n",
       "      <td>393.181000</td>\n",
       "      <td>398.821014</td>\n",
       "      <td>26580100</td>\n",
       "      <td>4606.129883</td>\n",
       "      <td>4610.569824</td>\n",
       "      <td>4563.439941</td>\n",
       "      <td>4579.790039</td>\n",
       "      <td>...</td>\n",
       "      <td>1215.3</td>\n",
       "      <td>1215.3</td>\n",
       "      <td>4</td>\n",
       "      <td>-1</td>\n",
       "      <td>-0.024659</td>\n",
       "      <td>0.000000</td>\n",
       "      <td>0.000000</td>\n",
       "      <td>19.244995</td>\n",
       "      <td>47.129883</td>\n",
       "      <td>3.0</td>\n",
       "    </tr>\n",
       "  </tbody>\n",
       "</table>\n",
       "<p>5 rows × 23 columns</p>\n",
       "</div>"
      ],
      "text/plain": [
       "                 Date    BTC Open    BTC High     BTC Low   BTC Close  \\\n",
       "Date                                                                    \n",
       "2014-09-17 2014-09-17  465.864014  468.174011  452.421997  457.334015   \n",
       "2014-09-18 2014-09-18  456.859985  456.859985  413.104004  424.440002   \n",
       "2014-09-19 2014-09-19  424.102997  427.834991  384.532013  394.795990   \n",
       "2014-09-20 2014-09-20  394.673004  423.295990  389.882996  408.903992   \n",
       "2014-09-21 2014-09-21  408.084991  412.425995  393.181000  398.821014   \n",
       "\n",
       "            BTC Volume  NASDAQ Open  NASDAQ High   NASDAQ Low  NASDAQ Close  \\\n",
       "Date                                                                          \n",
       "2014-09-17    21056800  4553.959961  4582.399902  4539.359863   4562.189941   \n",
       "2014-09-18    34483200  4575.740234  4593.979980  4572.620117   4593.430176   \n",
       "2014-09-19    37919700  4606.129883  4610.569824  4563.439941   4579.790039   \n",
       "2014-09-20    36863600  4606.129883  4610.569824  4563.439941   4579.790039   \n",
       "2014-09-21    26580100  4606.129883  4610.569824  4563.439941   4579.790039   \n",
       "\n",
       "            ...  Gold Low  Gold Close  Gold Volume  Trend  BTC Returns  \\\n",
       "Date        ...                                                          \n",
       "2014-09-17  ...    1221.9      1234.4           10     -1          NaN   \n",
       "2014-09-18  ...    1216.2      1225.7            5     -1    -0.071926   \n",
       "2014-09-19  ...    1215.3      1215.3            4     -1    -0.069843   \n",
       "2014-09-20  ...    1215.3      1215.3            4      1     0.035735   \n",
       "2014-09-21  ...    1215.3      1215.3            4     -1    -0.024659   \n",
       "\n",
       "            NASDAQ Returns  Gold Returns  BTC Range  NASDAQ Range  Gold Range  \n",
       "Date                                                                           \n",
       "2014-09-17             NaN           NaN  15.752014     43.040039        14.3  \n",
       "2014-09-18        0.006848     -0.007048  43.755981     21.359863         9.5  \n",
       "2014-09-19       -0.002969     -0.008485  43.302978     47.129883         3.0  \n",
       "2014-09-20        0.000000      0.000000  33.412994     47.129883         3.0  \n",
       "2014-09-21        0.000000      0.000000  19.244995     47.129883         3.0  \n",
       "\n",
       "[5 rows x 23 columns]"
      ]
     },
     "execution_count": 12,
     "metadata": {},
     "output_type": "execute_result"
    }
   ],
   "source": [
    "data.head(5)"
   ]
  },
  {
   "cell_type": "markdown",
   "metadata": {},
   "source": [
    "### Baseline regression model for bitcoin price prediction"
   ]
  },
  {
   "cell_type": "code",
   "execution_count": 13,
   "metadata": {},
   "outputs": [],
   "source": [
    "import pandas as pd\n",
    "import numpy as np\n",
    "from sklearn.model_selection import train_test_split\n",
    "from sklearn.metrics import mean_squared_error, mean_absolute_error, r2_score\n",
    "from sklearn.ensemble import RandomForestRegressor\n",
    "from sklearn.svm import SVR\n",
    "from sklearn.neural_network import MLPRegressor\n",
    "\n",
    "# XGBoost and LightGBM\n",
    "import xgboost as xgb\n",
    "import lightgbm as lgb"
   ]
  },
  {
   "cell_type": "code",
   "execution_count": 14,
   "metadata": {},
   "outputs": [
    {
     "name": "stdout",
     "output_type": "stream",
     "text": [
      "Top features most correlated with BTC Close:\n",
      "BTC Close            1.000000\n",
      "BTC High             0.999668\n",
      "BTC Low              0.999582\n",
      "BTC Close Lag1       0.999226\n",
      "BTC Open             0.999225\n",
      "NASDAQ Close         0.930506\n",
      "NASDAQ High          0.930419\n",
      "NASDAQ Low           0.930407\n",
      "NASDAQ Close Lag1    0.930375\n",
      "NASDAQ Open          0.930310\n",
      "Gold Low             0.912002\n",
      "Gold Close Lag1      0.911712\n",
      "Gold Close           0.911695\n",
      "Gold Open            0.911459\n",
      "Gold High            0.911005\n",
      "BTC Range            0.751792\n",
      "NASDAQ Volume        0.699837\n",
      "BTC Volume           0.660289\n",
      "NASDAQ Range         0.531116\n",
      "Gold Range           0.391558\n",
      "Gold Returns         0.028036\n",
      "Gold Volume          0.024218\n",
      "Trend                0.015393\n",
      "BTC Returns          0.005169\n",
      "NASDAQ Returns       0.004661\n",
      "Name: BTC Close, dtype: float64\n",
      "\n",
      "Top 10 features for modeling: ['BTC High', 'BTC Low', 'BTC Close Lag1', 'BTC Open', 'NASDAQ Close', 'NASDAQ High', 'NASDAQ Low', 'NASDAQ Close Lag1', 'NASDAQ Open', 'Gold Low']\n"
     ]
    }
   ],
   "source": [
    "# Add lag features\n",
    "data['BTC Close Lag1'] = data['BTC Close'].shift(1)\n",
    "data['NASDAQ Close Lag1'] = data['NASDAQ Close'].shift(1)\n",
    "data['Gold Close Lag1'] = data['Gold Close'].shift(1)\n",
    "\n",
    "# Drop rows with any missing values (if any)\n",
    "model_data = data.dropna().copy()\n",
    "\n",
    "# Remove date\n",
    "model_data = model_data.drop(columns=['Date'])\n",
    "\n",
    "# Compute correlation of all features with BTC Close\n",
    "corrs = model_data.corr()['BTC Close'].abs().sort_values(ascending=False)\n",
    "print(\"Top features most correlated with BTC Close:\")\n",
    "print(corrs)\n",
    "\n",
    "N = 10\n",
    "top_features = corrs.index[1:N+1]  # Skip the first (BTC Close itself)\n",
    "print(f\"\\nTop {N} features for modeling:\", list(top_features))\n",
    "\n",
    "X = model_data[top_features]\n",
    "y = model_data['BTC Close']"
   ]
  },
  {
   "cell_type": "code",
   "execution_count": 15,
   "metadata": {},
   "outputs": [],
   "source": [
    "# 2. Train-test split (e.g., 80% train, 20% test, shuffle=False for time series)\n",
    "X_train, X_test, y_train, y_test = train_test_split(X, y, test_size=0.2, shuffle=False)\n",
    "\n",
    "# 3. Define models\n",
    "models = {\n",
    "    'Random Forest': RandomForestRegressor(random_state=42),\n",
    "    'XGBoost': xgb.XGBRegressor(random_state=42, verbosity=0),\n",
    "    'LightGBM': lgb.LGBMRegressor(random_state=42),\n",
    "    'SVR': SVR(),\n",
    "    'MLP': MLPRegressor(random_state=42, max_iter=500)\n",
    "}"
   ]
  },
  {
   "cell_type": "code",
   "execution_count": 16,
   "metadata": {},
   "outputs": [
    {
     "name": "stdout",
     "output_type": "stream",
     "text": [
      "\n",
      "[INFO] SVR and MLP use scaled features; tree-based models use original features.\n",
      "\n",
      "Training Random Forest...\n",
      "Random Forest | Train RMSE: 162.2620 | Test RMSE: 15421.6787 | Train R^2: 0.9999 | Test R^2: 0.6422\n",
      "\n",
      "Training XGBoost...\n",
      "XGBoost | Train RMSE: 94.9431 | Test RMSE: 16289.2865 | Train R^2: 1.0000 | Test R^2: 0.6008\n",
      "\n",
      "Training LightGBM...\n",
      "[LightGBM] [Warning] Found whitespace in feature_names, replace with underlines\n",
      "[LightGBM] [Info] Auto-choosing col-wise multi-threading, the overhead of testing was 0.000486 seconds.\n",
      "You can set `force_col_wise=true` to remove the overhead.\n",
      "[LightGBM] [Info] Total Bins 2550\n",
      "[LightGBM] [Info] Number of data points in the train set: 3133, number of used features: 10\n",
      "[LightGBM] [Info] Start training from score 13236.414107\n",
      "LightGBM | Train RMSE: 258.4134 | Test RMSE: 16451.5983 | Train R^2: 0.9997 | Test R^2: 0.5928\n",
      "\n",
      "Training SVR...\n",
      "SVR | Train RMSE: 16556.5235 | Test RMSE: 58292.2522 | Train R^2: -0.0649 | Test R^2: -4.1124\n",
      "\n",
      "Training MLP...\n",
      "MLP | Train RMSE: 3792.6273 | Test RMSE: 7322.3540 | Train R^2: 0.9441 | Test R^2: 0.9193\n"
     ]
    },
    {
     "name": "stderr",
     "output_type": "stream",
     "text": [
      "/Users/jven/anaconda3/envs/bootcamp/lib/python3.11/site-packages/sklearn/neural_network/_multilayer_perceptron.py:691: ConvergenceWarning: Stochastic Optimizer: Maximum iterations (500) reached and the optimization hasn't converged yet.\n",
      "  warnings.warn(\n"
     ]
    }
   ],
   "source": [
    "# 4. Fit, predict, and evaluate\n",
    "# Scaling: fit on train, transform both train and test\n",
    "from sklearn.preprocessing import StandardScaler\n",
    "\n",
    "scaler = StandardScaler()\n",
    "X_train_scaled = scaler.fit_transform(X_train)\n",
    "X_test_scaled = scaler.transform(X_test)\n",
    "\n",
    "results = {}\n",
    "print(\"\\n[INFO] SVR and MLP use scaled features; tree-based models use original features.\")\n",
    "for name, model in models.items():\n",
    "    print(f\"\\nTraining {name}...\")\n",
    "    if name in ['SVR', 'MLP']:\n",
    "        model.fit(X_train_scaled, y_train)\n",
    "        y_train_pred = model.predict(X_train_scaled)\n",
    "        y_test_pred = model.predict(X_test_scaled)\n",
    "    else:\n",
    "        model.fit(X_train, y_train)\n",
    "        y_train_pred = model.predict(X_train)\n",
    "        y_test_pred = model.predict(X_test)\n",
    "    train_rmse = np.sqrt(mean_squared_error(y_train, y_train_pred))\n",
    "    train_mae = mean_absolute_error(y_train, y_train_pred)\n",
    "    train_r2 = r2_score(y_train, y_train_pred)\n",
    "    test_rmse = np.sqrt(mean_squared_error(y_test, y_test_pred))\n",
    "    test_mae = mean_absolute_error(y_test, y_test_pred)\n",
    "    test_r2 = r2_score(y_test, y_test_pred)\n",
    "    results[name] = {\n",
    "        'Train RMSE': train_rmse, 'Train MAE': train_mae, 'Train R2': train_r2,\n",
    "        'Test RMSE': test_rmse, 'Test MAE': test_mae, 'Test R2': test_r2\n",
    "    }\n",
    "    print(f\"{name} | Train RMSE: {train_rmse:.4f} | Test RMSE: {test_rmse:.4f} | Train R^2: {train_r2:.4f} | Test R^2: {test_r2:.4f}\")"
   ]
  },
  {
   "cell_type": "code",
   "execution_count": null,
   "metadata": {},
   "outputs": [],
   "source": []
  },
  {
   "cell_type": "markdown",
   "metadata": {},
   "source": [
    "# 5. Summary\n",
    "print(\"\\nBaseline Model Metrics:\")\n",
    "print(f\"{'Model':<15} {'Train RMSE':>10} {'Test RMSE':>10} {'Train R2':>10} {'Test R2':>10}\")\n",
    "for name, metrics in results.items():\n",
    "    print(f\"{name:<15} {metrics['Train RMSE']:>10.4f} {metrics['Test RMSE']:>10.4f} {metrics['Train R2']:>10.4f} {metrics['Test R2']:>10.4f}\")"
   ]
  },
  {
   "cell_type": "markdown",
   "metadata": {},
   "source": [
    "# 3. Feature engineering and selection"
   ]
  },
  {
   "cell_type": "markdown",
   "metadata": {},
   "source": [
    "### Feature engineering"
   ]
  },
  {
   "cell_type": "code",
   "execution_count": 18,
   "metadata": {},
   "outputs": [
    {
     "data": {
      "text/html": [
       "<div>\n",
       "<style scoped>\n",
       "    .dataframe tbody tr th:only-of-type {\n",
       "        vertical-align: middle;\n",
       "    }\n",
       "\n",
       "    .dataframe tbody tr th {\n",
       "        vertical-align: top;\n",
       "    }\n",
       "\n",
       "    .dataframe thead th {\n",
       "        text-align: right;\n",
       "    }\n",
       "</style>\n",
       "<table border=\"1\" class=\"dataframe\">\n",
       "  <thead>\n",
       "    <tr style=\"text-align: right;\">\n",
       "      <th></th>\n",
       "      <th>Date</th>\n",
       "      <th>BTC Open</th>\n",
       "      <th>BTC High</th>\n",
       "      <th>BTC Low</th>\n",
       "      <th>BTC Close</th>\n",
       "      <th>BTC Volume</th>\n",
       "      <th>NASDAQ Open</th>\n",
       "      <th>NASDAQ High</th>\n",
       "      <th>NASDAQ Low</th>\n",
       "      <th>NASDAQ Close</th>\n",
       "      <th>...</th>\n",
       "      <th>NASDAQ Close Lag1</th>\n",
       "      <th>Gold Close Lag1</th>\n",
       "      <th>BTC MA7</th>\n",
       "      <th>BTC MA30</th>\n",
       "      <th>NASDAQ MA7</th>\n",
       "      <th>NASDAQ MA30</th>\n",
       "      <th>Gold MA7</th>\n",
       "      <th>Gold MA30</th>\n",
       "      <th>BTC Volatility7</th>\n",
       "      <th>BTC Volatility30</th>\n",
       "    </tr>\n",
       "    <tr>\n",
       "      <th>Date</th>\n",
       "      <th></th>\n",
       "      <th></th>\n",
       "      <th></th>\n",
       "      <th></th>\n",
       "      <th></th>\n",
       "      <th></th>\n",
       "      <th></th>\n",
       "      <th></th>\n",
       "      <th></th>\n",
       "      <th></th>\n",
       "      <th></th>\n",
       "      <th></th>\n",
       "      <th></th>\n",
       "      <th></th>\n",
       "      <th></th>\n",
       "      <th></th>\n",
       "      <th></th>\n",
       "      <th></th>\n",
       "      <th></th>\n",
       "      <th></th>\n",
       "      <th></th>\n",
       "    </tr>\n",
       "  </thead>\n",
       "  <tbody>\n",
       "    <tr>\n",
       "      <th>2014-10-16</th>\n",
       "      <td>2014-10-16</td>\n",
       "      <td>394.518005</td>\n",
       "      <td>398.807007</td>\n",
       "      <td>373.070007</td>\n",
       "      <td>382.556000</td>\n",
       "      <td>26990000</td>\n",
       "      <td>4133.250000</td>\n",
       "      <td>4246.009766</td>\n",
       "      <td>4131.649902</td>\n",
       "      <td>4217.390137</td>\n",
       "      <td>...</td>\n",
       "      <td>4215.319824</td>\n",
       "      <td>1244.1</td>\n",
       "      <td>381.574720</td>\n",
       "      <td>384.112801</td>\n",
       "      <td>4243.180106</td>\n",
       "      <td>4438.583040</td>\n",
       "      <td>1230.071429</td>\n",
       "      <td>1217.270000</td>\n",
       "      <td>15.312384</td>\n",
       "      <td>32.045785</td>\n",
       "    </tr>\n",
       "    <tr>\n",
       "      <th>2014-10-17</th>\n",
       "      <td>2014-10-17</td>\n",
       "      <td>382.756012</td>\n",
       "      <td>385.477997</td>\n",
       "      <td>375.389008</td>\n",
       "      <td>383.757996</td>\n",
       "      <td>13600700</td>\n",
       "      <td>4275.089844</td>\n",
       "      <td>4296.109863</td>\n",
       "      <td>4241.669922</td>\n",
       "      <td>4258.439941</td>\n",
       "      <td>...</td>\n",
       "      <td>4217.390137</td>\n",
       "      <td>1240.5</td>\n",
       "      <td>384.745575</td>\n",
       "      <td>381.660267</td>\n",
       "      <td>4240.637207</td>\n",
       "      <td>4428.458040</td>\n",
       "      <td>1232.542857</td>\n",
       "      <td>1217.400000</td>\n",
       "      <td>12.521266</td>\n",
       "      <td>28.910903</td>\n",
       "    </tr>\n",
       "    <tr>\n",
       "      <th>2014-10-18</th>\n",
       "      <td>2014-10-18</td>\n",
       "      <td>383.976013</td>\n",
       "      <td>395.157990</td>\n",
       "      <td>378.971008</td>\n",
       "      <td>391.441986</td>\n",
       "      <td>11416800</td>\n",
       "      <td>4275.089844</td>\n",
       "      <td>4296.109863</td>\n",
       "      <td>4241.669922</td>\n",
       "      <td>4258.439941</td>\n",
       "      <td>...</td>\n",
       "      <td>4258.439941</td>\n",
       "      <td>1238.3</td>\n",
       "      <td>388.908857</td>\n",
       "      <td>380.560333</td>\n",
       "      <td>4238.094308</td>\n",
       "      <td>4417.291699</td>\n",
       "      <td>1235.014286</td>\n",
       "      <td>1217.820000</td>\n",
       "      <td>7.749794</td>\n",
       "      <td>27.834889</td>\n",
       "    </tr>\n",
       "    <tr>\n",
       "      <th>2014-10-19</th>\n",
       "      <td>2014-10-19</td>\n",
       "      <td>391.253998</td>\n",
       "      <td>393.938995</td>\n",
       "      <td>386.457001</td>\n",
       "      <td>389.545990</td>\n",
       "      <td>5914570</td>\n",
       "      <td>4275.089844</td>\n",
       "      <td>4296.109863</td>\n",
       "      <td>4241.669922</td>\n",
       "      <td>4258.439941</td>\n",
       "      <td>...</td>\n",
       "      <td>4258.439941</td>\n",
       "      <td>1238.3</td>\n",
       "      <td>390.479854</td>\n",
       "      <td>380.385333</td>\n",
       "      <td>4235.551409</td>\n",
       "      <td>4406.580029</td>\n",
       "      <td>1237.485714</td>\n",
       "      <td>1218.586667</td>\n",
       "      <td>6.273744</td>\n",
       "      <td>27.758701</td>\n",
       "    </tr>\n",
       "    <tr>\n",
       "      <th>2014-10-20</th>\n",
       "      <td>2014-10-20</td>\n",
       "      <td>389.230988</td>\n",
       "      <td>390.084015</td>\n",
       "      <td>378.252014</td>\n",
       "      <td>382.845001</td>\n",
       "      <td>16419000</td>\n",
       "      <td>4254.160156</td>\n",
       "      <td>4316.870117</td>\n",
       "      <td>4248.220215</td>\n",
       "      <td>4316.069824</td>\n",
       "      <td>...</td>\n",
       "      <td>4258.439941</td>\n",
       "      <td>1238.3</td>\n",
       "      <td>389.398568</td>\n",
       "      <td>379.516700</td>\n",
       "      <td>4250.181361</td>\n",
       "      <td>4397.789355</td>\n",
       "      <td>1239.585714</td>\n",
       "      <td>1219.543333</td>\n",
       "      <td>6.907262</td>\n",
       "      <td>27.238360</td>\n",
       "    </tr>\n",
       "  </tbody>\n",
       "</table>\n",
       "<p>5 rows × 34 columns</p>\n",
       "</div>"
      ],
      "text/plain": [
       "                 Date    BTC Open    BTC High     BTC Low   BTC Close  \\\n",
       "Date                                                                    \n",
       "2014-10-16 2014-10-16  394.518005  398.807007  373.070007  382.556000   \n",
       "2014-10-17 2014-10-17  382.756012  385.477997  375.389008  383.757996   \n",
       "2014-10-18 2014-10-18  383.976013  395.157990  378.971008  391.441986   \n",
       "2014-10-19 2014-10-19  391.253998  393.938995  386.457001  389.545990   \n",
       "2014-10-20 2014-10-20  389.230988  390.084015  378.252014  382.845001   \n",
       "\n",
       "            BTC Volume  NASDAQ Open  NASDAQ High   NASDAQ Low  NASDAQ Close  \\\n",
       "Date                                                                          \n",
       "2014-10-16    26990000  4133.250000  4246.009766  4131.649902   4217.390137   \n",
       "2014-10-17    13600700  4275.089844  4296.109863  4241.669922   4258.439941   \n",
       "2014-10-18    11416800  4275.089844  4296.109863  4241.669922   4258.439941   \n",
       "2014-10-19     5914570  4275.089844  4296.109863  4241.669922   4258.439941   \n",
       "2014-10-20    16419000  4254.160156  4316.870117  4248.220215   4316.069824   \n",
       "\n",
       "            ...  NASDAQ Close Lag1  Gold Close Lag1     BTC MA7    BTC MA30  \\\n",
       "Date        ...                                                               \n",
       "2014-10-16  ...        4215.319824           1244.1  381.574720  384.112801   \n",
       "2014-10-17  ...        4217.390137           1240.5  384.745575  381.660267   \n",
       "2014-10-18  ...        4258.439941           1238.3  388.908857  380.560333   \n",
       "2014-10-19  ...        4258.439941           1238.3  390.479854  380.385333   \n",
       "2014-10-20  ...        4258.439941           1238.3  389.398568  379.516700   \n",
       "\n",
       "             NASDAQ MA7  NASDAQ MA30     Gold MA7    Gold MA30  \\\n",
       "Date                                                             \n",
       "2014-10-16  4243.180106  4438.583040  1230.071429  1217.270000   \n",
       "2014-10-17  4240.637207  4428.458040  1232.542857  1217.400000   \n",
       "2014-10-18  4238.094308  4417.291699  1235.014286  1217.820000   \n",
       "2014-10-19  4235.551409  4406.580029  1237.485714  1218.586667   \n",
       "2014-10-20  4250.181361  4397.789355  1239.585714  1219.543333   \n",
       "\n",
       "            BTC Volatility7  BTC Volatility30  \n",
       "Date                                           \n",
       "2014-10-16        15.312384         32.045785  \n",
       "2014-10-17        12.521266         28.910903  \n",
       "2014-10-18         7.749794         27.834889  \n",
       "2014-10-19         6.273744         27.758701  \n",
       "2014-10-20         6.907262         27.238360  \n",
       "\n",
       "[5 rows x 34 columns]"
      ]
     },
     "execution_count": 18,
     "metadata": {},
     "output_type": "execute_result"
    }
   ],
   "source": [
    "# Feature Engineering: Lagged and Rolling Features\n",
    "\n",
    "# 7-day and 30-day moving averages\n",
    "data['BTC MA7'] = data['BTC Close'].rolling(window=7).mean()\n",
    "data['BTC MA30'] = data['BTC Close'].rolling(window=30).mean()\n",
    "data['NASDAQ MA7'] = data['NASDAQ Close'].rolling(window=7).mean()\n",
    "data['NASDAQ MA30'] = data['NASDAQ Close'].rolling(window=30).mean()\n",
    "data['Gold MA7'] = data['Gold Close'].rolling(window=7).mean()\n",
    "data['Gold MA30'] = data['Gold Close'].rolling(window=30).mean()\n",
    "\n",
    "# 7-day and 30-day rolling std (volatility)\n",
    "data['BTC Volatility7'] = data['BTC Close'].rolling(window=7).std()\n",
    "data['BTC Volatility30'] = data['BTC Close'].rolling(window=30).std()\n",
    "\n",
    "# Drop rows with NaN values created by rolling/lags\n",
    "data_fe = data.dropna().copy()\n",
    "data_fe.head()"
   ]
  },
  {
   "cell_type": "markdown",
   "metadata": {},
   "source": [
    "### Feature Selection"
   ]
  },
  {
   "cell_type": "code",
   "execution_count": 19,
   "metadata": {},
   "outputs": [
    {
     "name": "stdout",
     "output_type": "stream",
     "text": [
      "Top features most correlated with BTC Close:\n",
      "BTC Close            1.000000\n",
      "BTC High             0.999667\n",
      "BTC Low              0.999580\n",
      "BTC Close Lag1       0.999222\n",
      "BTC Open             0.999221\n",
      "BTC MA7              0.998658\n",
      "BTC MA30             0.992862\n",
      "NASDAQ MA7           0.930646\n",
      "NASDAQ Close         0.930577\n",
      "NASDAQ High          0.930482\n",
      "NASDAQ Low           0.930475\n",
      "NASDAQ Close Lag1    0.930438\n",
      "NASDAQ Open          0.930372\n",
      "NASDAQ MA30          0.930244\n",
      "Gold MA30            0.913163\n",
      "Gold MA7             0.911663\n",
      "Gold Low             0.911529\n",
      "Gold Close Lag1      0.911235\n",
      "Gold Close           0.911219\n",
      "Gold Open            0.910982\n",
      "Gold High            0.910524\n",
      "Date                 0.822788\n",
      "BTC Volatility30     0.803494\n",
      "BTC Volatility7      0.762322\n",
      "BTC Range            0.750833\n",
      "NASDAQ Volume        0.699018\n",
      "BTC Volume           0.658365\n",
      "NASDAQ Range         0.529431\n",
      "Gold Range           0.389945\n",
      "Gold Returns         0.028188\n",
      "BTC Returns          0.004094\n",
      "NASDAQ Returns       0.002962\n",
      "Trend               -0.016709\n",
      "Gold Volume         -0.024867\n",
      "Name: BTC Close, dtype: float64\n",
      "\n",
      "Top 10 features for modeling: ['BTC High', 'BTC Low', 'BTC Close Lag1', 'BTC Open', 'BTC MA7', 'BTC MA30', 'NASDAQ MA7', 'NASDAQ Close', 'NASDAQ High', 'NASDAQ Low']\n"
     ]
    }
   ],
   "source": [
    "# Calculate correlation with BTC Close\n",
    "corrs = data_fe.corr()['BTC Close'].sort_values(ascending=False)\n",
    "print(\"Top features most correlated with BTC Close:\")\n",
    "print(corrs)\n",
    "\n",
    "# Select top 10 features (excluding BTC Close itself). 10 is arbitrary number that I chose based on the correlation.\n",
    "top_features = corrs.index[1:11]  # Top 10 features (excluding BTC Close itself)\n",
    "print(\"\\nTop 10 features for modeling:\", list(top_features))"
   ]
  },
  {
   "cell_type": "markdown",
   "metadata": {},
   "source": [
    "# 4. Improved predictive model"
   ]
  },
  {
   "cell_type": "markdown",
   "metadata": {},
   "source": [
    "### Evaluate feature-engineered dataset "
   ]
  },
  {
   "cell_type": "code",
   "execution_count": 20,
   "metadata": {},
   "outputs": [],
   "source": [
    "X_fe = data_fe[top_features]\n",
    "y_fe = data_fe['BTC Close']"
   ]
  },
  {
   "cell_type": "code",
   "execution_count": 21,
   "metadata": {},
   "outputs": [
    {
     "name": "stdout",
     "output_type": "stream",
     "text": [
      "\n",
      "Training Random Forest (with scaling)...\n",
      "Random Forest | Train RMSE: 168.26 | Test RMSE: 15594.88 | Train R^2: 0.9999 | Test R^2: 0.6326\n",
      "\n",
      "Training XGBoost (with scaling)...\n",
      "XGBoost | Train RMSE: 89.40 | Test RMSE: 16373.97 | Train R^2: 1.0000 | Test R^2: 0.5950\n",
      "\n",
      "Training LightGBM (with scaling)...\n",
      "[LightGBM] [Info] Auto-choosing col-wise multi-threading, the overhead of testing was 0.000218 seconds.\n",
      "You can set `force_col_wise=true` to remove the overhead.\n",
      "[LightGBM] [Info] Total Bins 2550\n",
      "[LightGBM] [Info] Number of data points in the train set: 3111, number of used features: 10\n",
      "[LightGBM] [Info] Start training from score 13381.873217\n",
      "LightGBM | Train RMSE: 275.78 | Test RMSE: 16577.11 | Train R^2: 0.9997 | Test R^2: 0.5849\n",
      "\n",
      "Training SVR (with scaling)...\n",
      "SVR | Train RMSE: 16607.23 | Test RMSE: 58351.54 | Train R^2: -0.0682 | Test R^2: -4.1431\n",
      "\n",
      "Training MLP (with scaling)...\n",
      "MLP | Train RMSE: 3667.29 | Test RMSE: 5232.72 | Train R^2: 0.9479 | Test R^2: 0.9586\n",
      "\n",
      "Improved Model Results (Feature Engineering + Scaling):\n",
      "Model           Train RMSE  Test RMSE   Train R2    Test R2\n",
      "Random Forest     168.2615 15594.8773     0.9999     0.6326\n",
      "XGBoost            89.3979 16373.9658     1.0000     0.5950\n",
      "LightGBM          275.7809 16577.1055     0.9997     0.5849\n",
      "SVR             16607.2261 58351.5377    -0.0682    -4.1431\n",
      "MLP              3667.2928  5232.7231     0.9479     0.9586\n"
     ]
    },
    {
     "name": "stderr",
     "output_type": "stream",
     "text": [
      "/Users/jven/anaconda3/envs/bootcamp/lib/python3.11/site-packages/sklearn/neural_network/_multilayer_perceptron.py:691: ConvergenceWarning: Stochastic Optimizer: Maximum iterations (500) reached and the optimization hasn't converged yet.\n",
      "  warnings.warn(\n"
     ]
    }
   ],
   "source": [
    "from sklearn.preprocessing import StandardScaler\n",
    "from sklearn.ensemble import RandomForestRegressor\n",
    "from sklearn.svm import SVR\n",
    "from sklearn.neural_network import MLPRegressor\n",
    "import xgboost as xgb\n",
    "import lightgbm as lgb\n",
    "from sklearn.model_selection import train_test_split\n",
    "from sklearn.metrics import mean_squared_error, mean_absolute_error, r2_score\n",
    "\n",
    "# Assume you already have: data_fe, top_features, X_fe, y_fe\n",
    "\n",
    "# 1. Train-test split (no shuffle for time series)\n",
    "X_train, X_test, y_train, y_test = train_test_split(X_fe, y_fe, test_size=0.2, shuffle=False)\n",
    "\n",
    "# 2. Scaling (fit on train, transform both train and test)\n",
    "scaler = StandardScaler()\n",
    "X_train_scaled = scaler.fit_transform(X_train)\n",
    "X_test_scaled = scaler.transform(X_test)\n",
    "\n",
    "# 3. Define models (same as before)\n",
    "models = {\n",
    "    'Random Forest': RandomForestRegressor(random_state=42),\n",
    "    'XGBoost': xgb.XGBRegressor(random_state=42, verbosity=0),\n",
    "    'LightGBM': lgb.LGBMRegressor(random_state=42),\n",
    "    'SVR': SVR(),\n",
    "    'MLP': MLPRegressor(random_state=42, max_iter=500)\n",
    "}\n",
    "\n",
    "# 4. Fit, predict, and evaluate\n",
    "results = {}\n",
    "for name, model in models.items():\n",
    "    print(f\"\\nTraining {name} (with scaling)...\")\n",
    "    model.fit(X_train_scaled, y_train)\n",
    "\n",
    "    # Train set\n",
    "    y_train_pred = model.predict(X_train_scaled)\n",
    "    train_rmse = np.sqrt(mean_squared_error(y_train, y_train_pred))\n",
    "    train_mae = mean_absolute_error(y_train, y_train_pred)\n",
    "    train_r2 = r2_score(y_train, y_train_pred)\n",
    "\n",
    "    # Test set\n",
    "    y_test_pred = model.predict(X_test_scaled)\n",
    "    test_rmse = np.sqrt(mean_squared_error(y_test, y_test_pred))\n",
    "    test_mae = mean_absolute_error(y_test, y_test_pred)\n",
    "    test_r2 = r2_score(y_test, y_test_pred)\n",
    "    results[name] = {\n",
    "        'Train RMSE': train_rmse, 'Train MAE': train_mae, 'Train R2': train_r2,\n",
    "        'Test RMSE': test_rmse, 'Test MAE': test_mae, 'Test R2': test_r2\n",
    "    }\n",
    "    print(f\"{name} | Train RMSE: {train_rmse:.2f} | Test RMSE: {test_rmse:.2f} | Train R^2: {train_r2:.4f} | Test R^2: {test_r2:.4f}\")\n",
    "\n",
    "# 5. (Optional) Print summary table\n",
    "print(\"\\nImproved Model Results (Feature Engineering + Scaling):\")\n",
    "print(f\"{'Model':<15} {'Train RMSE':>10} {'Test RMSE':>10} {'Train R2':>10} {'Test R2':>10}\")\n",
    "for name, metrics in results.items():\n",
    "    print(f\"{name:<15} {metrics['Train RMSE']:>10.4f} {metrics['Test RMSE']:>10.4f} {metrics['Train R2']:>10.4f} {metrics['Test R2']:>10.4f}\")"
   ]
  },
  {
   "cell_type": "code",
   "execution_count": 22,
   "metadata": {},
   "outputs": [
    {
     "name": "stdout",
     "output_type": "stream",
     "text": [
      "\n",
      "Feature-Engineered Features\n",
      "Model           Train RMSE  Test RMSE   Train R2    Test R2\n",
      "Random Forest     168.2615 15594.8773     0.9999     0.6326\n",
      "XGBoost            89.3979 16373.9658     1.0000     0.5950\n",
      "LightGBM          275.7809 16577.1055     0.9997     0.5849\n",
      "SVR             16607.2261 58351.5377    -0.0682    -4.1431\n",
      "MLP              3667.2928  5232.7231     0.9479     0.9586\n"
     ]
    }
   ],
   "source": [
    "print(f\"\\n{'Feature-Engineered Features'}\")\n",
    "print(f\"{'Model':<15} {'Train RMSE':>10} {'Test RMSE':>10} {'Train R2':>10} {'Test R2':>10}\")\n",
    "for name, metrics in results.items():\n",
    "    print(f\"{name:<15} {metrics['Train RMSE']:>10.4f} {metrics['Test RMSE']:>10.4f} {metrics['Train R2']:>10.4f} {metrics['Test R2']:>10.4f}\")"
   ]
  },
  {
   "cell_type": "markdown",
   "metadata": {},
   "source": [
    "### Let's use GridSearchCV for Hyperparamter tuning"
   ]
  },
  {
   "cell_type": "code",
   "execution_count": 23,
   "metadata": {},
   "outputs": [
    {
     "name": "stdout",
     "output_type": "stream",
     "text": [
      "Fitting 5 folds for each of 36 candidates, totalling 180 fits\n",
      "[CV] END activation=relu, alpha=0.0001, hidden_layer_sizes=(50,), learning_rate_init=0.01, max_iter=2000, random_state=42; total time=   7.1s\n",
      "[CV] END activation=relu, alpha=0.0001, hidden_layer_sizes=(50,), learning_rate_init=0.01, max_iter=2000, random_state=42; total time=   7.6s\n",
      "[CV] END activation=relu, alpha=0.0001, hidden_layer_sizes=(50,), learning_rate_init=0.01, max_iter=2000, random_state=42; total time=   7.4s\n",
      "[CV] END activation=relu, alpha=0.0001, hidden_layer_sizes=(50,), learning_rate_init=0.01, max_iter=2000, random_state=42; total time=   4.0s\n",
      "[CV] END activation=relu, alpha=0.0001, hidden_layer_sizes=(50,), learning_rate_init=0.001, max_iter=2000, random_state=42; total time=  11.4s\n",
      "[CV] END activation=relu, alpha=0.0001, hidden_layer_sizes=(50,), learning_rate_init=0.001, max_iter=2000, random_state=42; total time=  11.5s\n"
     ]
    },
    {
     "name": "stderr",
     "output_type": "stream",
     "text": [
      "/Users/jven/anaconda3/envs/bootcamp/lib/python3.11/site-packages/sklearn/neural_network/_multilayer_perceptron.py:691: ConvergenceWarning: Stochastic Optimizer: Maximum iterations (2000) reached and the optimization hasn't converged yet.\n",
      "  warnings.warn(\n",
      "/Users/jven/anaconda3/envs/bootcamp/lib/python3.11/site-packages/sklearn/neural_network/_multilayer_perceptron.py:691: ConvergenceWarning: Stochastic Optimizer: Maximum iterations (2000) reached and the optimization hasn't converged yet.\n",
      "  warnings.warn(\n",
      "/Users/jven/anaconda3/envs/bootcamp/lib/python3.11/site-packages/sklearn/neural_network/_multilayer_perceptron.py:691: ConvergenceWarning: Stochastic Optimizer: Maximum iterations (2000) reached and the optimization hasn't converged yet.\n",
      "  warnings.warn(\n"
     ]
    },
    {
     "name": "stdout",
     "output_type": "stream",
     "text": [
      "[CV] END activation=relu, alpha=0.0001, hidden_layer_sizes=(50,), learning_rate_init=0.001, max_iter=2000, random_state=42; total time=  11.5s\n"
     ]
    },
    {
     "name": "stderr",
     "output_type": "stream",
     "text": [
      "/Users/jven/anaconda3/envs/bootcamp/lib/python3.11/site-packages/sklearn/neural_network/_multilayer_perceptron.py:691: ConvergenceWarning: Stochastic Optimizer: Maximum iterations (2000) reached and the optimization hasn't converged yet.\n",
      "  warnings.warn(\n",
      "/Users/jven/anaconda3/envs/bootcamp/lib/python3.11/site-packages/sklearn/neural_network/_multilayer_perceptron.py:691: ConvergenceWarning: Stochastic Optimizer: Maximum iterations (2000) reached and the optimization hasn't converged yet.\n",
      "  warnings.warn(\n"
     ]
    },
    {
     "name": "stdout",
     "output_type": "stream",
     "text": [
      "[CV] END activation=relu, alpha=0.0001, hidden_layer_sizes=(50,), learning_rate_init=0.001, max_iter=2000, random_state=42; total time=  11.8s\n",
      "[CV] END activation=relu, alpha=0.0001, hidden_layer_sizes=(50,), learning_rate_init=0.001, max_iter=2000, random_state=42; total time=  12.0s\n",
      "[CV] END activation=relu, alpha=0.0001, hidden_layer_sizes=(50,), learning_rate_init=0.01, max_iter=2000, random_state=42; total time=   7.6s\n",
      "[CV] END activation=relu, alpha=0.0001, hidden_layer_sizes=(100,), learning_rate_init=0.01, max_iter=2000, random_state=42; total time=   8.4s\n",
      "[CV] END activation=relu, alpha=0.0001, hidden_layer_sizes=(100,), learning_rate_init=0.01, max_iter=2000, random_state=42; total time=   9.5s\n",
      "[CV] END activation=relu, alpha=0.0001, hidden_layer_sizes=(100,), learning_rate_init=0.01, max_iter=2000, random_state=42; total time=  12.3s\n"
     ]
    },
    {
     "name": "stderr",
     "output_type": "stream",
     "text": [
      "/Users/jven/anaconda3/envs/bootcamp/lib/python3.11/site-packages/sklearn/neural_network/_multilayer_perceptron.py:691: ConvergenceWarning: Stochastic Optimizer: Maximum iterations (2000) reached and the optimization hasn't converged yet.\n",
      "  warnings.warn(\n"
     ]
    },
    {
     "name": "stdout",
     "output_type": "stream",
     "text": [
      "[CV] END activation=relu, alpha=0.0001, hidden_layer_sizes=(100,), learning_rate_init=0.001, max_iter=2000, random_state=42; total time=  20.2s\n",
      "[CV] END activation=relu, alpha=0.0001, hidden_layer_sizes=(100,), learning_rate_init=0.01, max_iter=2000, random_state=42; total time=   6.8s\n",
      "[CV] END activation=relu, alpha=0.0001, hidden_layer_sizes=(100,), learning_rate_init=0.01, max_iter=2000, random_state=42; total time=   8.6s\n"
     ]
    },
    {
     "name": "stderr",
     "output_type": "stream",
     "text": [
      "/Users/jven/anaconda3/envs/bootcamp/lib/python3.11/site-packages/sklearn/neural_network/_multilayer_perceptron.py:691: ConvergenceWarning: Stochastic Optimizer: Maximum iterations (2000) reached and the optimization hasn't converged yet.\n",
      "  warnings.warn(\n"
     ]
    },
    {
     "name": "stdout",
     "output_type": "stream",
     "text": [
      "[CV] END activation=relu, alpha=0.0001, hidden_layer_sizes=(100,), learning_rate_init=0.001, max_iter=2000, random_state=42; total time=  19.8s\n"
     ]
    },
    {
     "name": "stderr",
     "output_type": "stream",
     "text": [
      "/Users/jven/anaconda3/envs/bootcamp/lib/python3.11/site-packages/sklearn/neural_network/_multilayer_perceptron.py:691: ConvergenceWarning: Stochastic Optimizer: Maximum iterations (2000) reached and the optimization hasn't converged yet.\n",
      "  warnings.warn(\n"
     ]
    },
    {
     "name": "stdout",
     "output_type": "stream",
     "text": [
      "[CV] END activation=relu, alpha=0.0001, hidden_layer_sizes=(100,), learning_rate_init=0.001, max_iter=2000, random_state=42; total time=  20.3s\n"
     ]
    },
    {
     "name": "stderr",
     "output_type": "stream",
     "text": [
      "/Users/jven/anaconda3/envs/bootcamp/lib/python3.11/site-packages/sklearn/neural_network/_multilayer_perceptron.py:691: ConvergenceWarning: Stochastic Optimizer: Maximum iterations (2000) reached and the optimization hasn't converged yet.\n",
      "  warnings.warn(\n"
     ]
    },
    {
     "name": "stdout",
     "output_type": "stream",
     "text": [
      "[CV] END activation=relu, alpha=0.0001, hidden_layer_sizes=(100,), learning_rate_init=0.001, max_iter=2000, random_state=42; total time=  20.2s\n"
     ]
    },
    {
     "name": "stderr",
     "output_type": "stream",
     "text": [
      "/Users/jven/anaconda3/envs/bootcamp/lib/python3.11/site-packages/sklearn/neural_network/_multilayer_perceptron.py:691: ConvergenceWarning: Stochastic Optimizer: Maximum iterations (2000) reached and the optimization hasn't converged yet.\n",
      "  warnings.warn(\n"
     ]
    },
    {
     "name": "stdout",
     "output_type": "stream",
     "text": [
      "[CV] END activation=relu, alpha=0.0001, hidden_layer_sizes=(100,), learning_rate_init=0.001, max_iter=2000, random_state=42; total time=  20.4s\n",
      "[CV] END activation=relu, alpha=0.0001, hidden_layer_sizes=(50, 50), learning_rate_init=0.01, max_iter=2000, random_state=42; total time=   4.8s\n",
      "[CV] END activation=relu, alpha=0.0001, hidden_layer_sizes=(50, 50), learning_rate_init=0.01, max_iter=2000, random_state=42; total time=   5.5s\n",
      "[CV] END activation=relu, alpha=0.0001, hidden_layer_sizes=(50, 50), learning_rate_init=0.01, max_iter=2000, random_state=42; total time=   6.9s\n",
      "[CV] END activation=relu, alpha=0.0001, hidden_layer_sizes=(50, 50), learning_rate_init=0.01, max_iter=2000, random_state=42; total time=   5.0s\n",
      "[CV] END activation=relu, alpha=0.0001, hidden_layer_sizes=(50, 50), learning_rate_init=0.001, max_iter=2000, random_state=42; total time=  11.0s\n",
      "[CV] END activation=relu, alpha=0.0001, hidden_layer_sizes=(50, 50), learning_rate_init=0.01, max_iter=2000, random_state=42; total time=   5.0s\n",
      "[CV] END activation=relu, alpha=0.0001, hidden_layer_sizes=(50, 50), learning_rate_init=0.001, max_iter=2000, random_state=42; total time=  16.8s\n",
      "[CV] END activation=relu, alpha=0.0001, hidden_layer_sizes=(50, 50), learning_rate_init=0.001, max_iter=2000, random_state=42; total time=  17.4s\n",
      "[CV] END activation=relu, alpha=0.0001, hidden_layer_sizes=(50, 50), learning_rate_init=0.001, max_iter=2000, random_state=42; total time=  22.8s\n"
     ]
    },
    {
     "name": "stderr",
     "output_type": "stream",
     "text": [
      "/Users/jven/anaconda3/envs/bootcamp/lib/python3.11/site-packages/sklearn/neural_network/_multilayer_perceptron.py:691: ConvergenceWarning: Stochastic Optimizer: Maximum iterations (2000) reached and the optimization hasn't converged yet.\n",
      "  warnings.warn(\n"
     ]
    },
    {
     "name": "stdout",
     "output_type": "stream",
     "text": [
      "[CV] END activation=relu, alpha=0.001, hidden_layer_sizes=(50,), learning_rate_init=0.001, max_iter=2000, random_state=42; total time=  12.5s\n"
     ]
    },
    {
     "name": "stderr",
     "output_type": "stream",
     "text": [
      "/Users/jven/anaconda3/envs/bootcamp/lib/python3.11/site-packages/sklearn/neural_network/_multilayer_perceptron.py:691: ConvergenceWarning: Stochastic Optimizer: Maximum iterations (2000) reached and the optimization hasn't converged yet.\n",
      "  warnings.warn(\n"
     ]
    },
    {
     "name": "stdout",
     "output_type": "stream",
     "text": [
      "[CV] END activation=relu, alpha=0.001, hidden_layer_sizes=(50,), learning_rate_init=0.001, max_iter=2000, random_state=42; total time=  11.4s\n"
     ]
    },
    {
     "name": "stderr",
     "output_type": "stream",
     "text": [
      "/Users/jven/anaconda3/envs/bootcamp/lib/python3.11/site-packages/sklearn/neural_network/_multilayer_perceptron.py:691: ConvergenceWarning: Stochastic Optimizer: Maximum iterations (2000) reached and the optimization hasn't converged yet.\n",
      "  warnings.warn(\n"
     ]
    },
    {
     "name": "stdout",
     "output_type": "stream",
     "text": [
      "[CV] END activation=relu, alpha=0.001, hidden_layer_sizes=(50,), learning_rate_init=0.001, max_iter=2000, random_state=42; total time=  11.4s\n",
      "[CV] END activation=relu, alpha=0.001, hidden_layer_sizes=(50,), learning_rate_init=0.01, max_iter=2000, random_state=42; total time=   7.7s\n"
     ]
    },
    {
     "name": "stderr",
     "output_type": "stream",
     "text": [
      "/Users/jven/anaconda3/envs/bootcamp/lib/python3.11/site-packages/sklearn/neural_network/_multilayer_perceptron.py:691: ConvergenceWarning: Stochastic Optimizer: Maximum iterations (2000) reached and the optimization hasn't converged yet.\n",
      "  warnings.warn(\n"
     ]
    },
    {
     "name": "stdout",
     "output_type": "stream",
     "text": [
      "[CV] END activation=relu, alpha=0.001, hidden_layer_sizes=(50,), learning_rate_init=0.001, max_iter=2000, random_state=42; total time=  12.0s\n",
      "[CV] END activation=relu, alpha=0.0001, hidden_layer_sizes=(50, 50), learning_rate_init=0.001, max_iter=2000, random_state=42; total time=  27.2s\n"
     ]
    },
    {
     "name": "stderr",
     "output_type": "stream",
     "text": [
      "/Users/jven/anaconda3/envs/bootcamp/lib/python3.11/site-packages/sklearn/neural_network/_multilayer_perceptron.py:691: ConvergenceWarning: Stochastic Optimizer: Maximum iterations (2000) reached and the optimization hasn't converged yet.\n",
      "  warnings.warn(\n"
     ]
    },
    {
     "name": "stdout",
     "output_type": "stream",
     "text": [
      "[CV] END activation=relu, alpha=0.001, hidden_layer_sizes=(50,), learning_rate_init=0.01, max_iter=2000, random_state=42; total time=   3.8s\n",
      "[CV] END activation=relu, alpha=0.001, hidden_layer_sizes=(50,), learning_rate_init=0.001, max_iter=2000, random_state=42; total time=  11.7s\n",
      "[CV] END activation=relu, alpha=0.001, hidden_layer_sizes=(50,), learning_rate_init=0.01, max_iter=2000, random_state=42; total time=   8.4s\n",
      "[CV] END activation=relu, alpha=0.001, hidden_layer_sizes=(50,), learning_rate_init=0.01, max_iter=2000, random_state=42; total time=   8.3s\n",
      "[CV] END activation=relu, alpha=0.001, hidden_layer_sizes=(50,), learning_rate_init=0.01, max_iter=2000, random_state=42; total time=   7.1s\n",
      "[CV] END activation=relu, alpha=0.001, hidden_layer_sizes=(100,), learning_rate_init=0.01, max_iter=2000, random_state=42; total time=  11.4s\n",
      "[CV] END activation=relu, alpha=0.001, hidden_layer_sizes=(100,), learning_rate_init=0.01, max_iter=2000, random_state=42; total time=  13.5s\n",
      "[CV] END activation=relu, alpha=0.001, hidden_layer_sizes=(100,), learning_rate_init=0.01, max_iter=2000, random_state=42; total time=  15.7s\n"
     ]
    },
    {
     "name": "stderr",
     "output_type": "stream",
     "text": [
      "/Users/jven/anaconda3/envs/bootcamp/lib/python3.11/site-packages/sklearn/neural_network/_multilayer_perceptron.py:691: ConvergenceWarning: Stochastic Optimizer: Maximum iterations (2000) reached and the optimization hasn't converged yet.\n",
      "  warnings.warn(\n",
      "/Users/jven/anaconda3/envs/bootcamp/lib/python3.11/site-packages/sklearn/neural_network/_multilayer_perceptron.py:691: ConvergenceWarning: Stochastic Optimizer: Maximum iterations (2000) reached and the optimization hasn't converged yet.\n",
      "  warnings.warn(\n"
     ]
    },
    {
     "name": "stdout",
     "output_type": "stream",
     "text": [
      "[CV] END activation=relu, alpha=0.001, hidden_layer_sizes=(100,), learning_rate_init=0.001, max_iter=2000, random_state=42; total time=  22.9s\n",
      "[CV] END activation=relu, alpha=0.001, hidden_layer_sizes=(100,), learning_rate_init=0.001, max_iter=2000, random_state=42; total time=  23.3s\n"
     ]
    },
    {
     "name": "stderr",
     "output_type": "stream",
     "text": [
      "/Users/jven/anaconda3/envs/bootcamp/lib/python3.11/site-packages/sklearn/neural_network/_multilayer_perceptron.py:691: ConvergenceWarning: Stochastic Optimizer: Maximum iterations (2000) reached and the optimization hasn't converged yet.\n",
      "  warnings.warn(\n"
     ]
    },
    {
     "name": "stdout",
     "output_type": "stream",
     "text": [
      "[CV] END activation=relu, alpha=0.001, hidden_layer_sizes=(100,), learning_rate_init=0.001, max_iter=2000, random_state=42; total time=  23.3s\n",
      "[CV] END activation=relu, alpha=0.001, hidden_layer_sizes=(100,), learning_rate_init=0.01, max_iter=2000, random_state=42; total time=   9.2s\n",
      "[CV] END activation=relu, alpha=0.001, hidden_layer_sizes=(100,), learning_rate_init=0.01, max_iter=2000, random_state=42; total time=   6.1s\n"
     ]
    },
    {
     "name": "stderr",
     "output_type": "stream",
     "text": [
      "/Users/jven/anaconda3/envs/bootcamp/lib/python3.11/site-packages/sklearn/neural_network/_multilayer_perceptron.py:691: ConvergenceWarning: Stochastic Optimizer: Maximum iterations (2000) reached and the optimization hasn't converged yet.\n",
      "  warnings.warn(\n"
     ]
    },
    {
     "name": "stdout",
     "output_type": "stream",
     "text": [
      "[CV] END activation=relu, alpha=0.001, hidden_layer_sizes=(100,), learning_rate_init=0.001, max_iter=2000, random_state=42; total time=  23.4s\n"
     ]
    },
    {
     "name": "stderr",
     "output_type": "stream",
     "text": [
      "/Users/jven/anaconda3/envs/bootcamp/lib/python3.11/site-packages/sklearn/neural_network/_multilayer_perceptron.py:691: ConvergenceWarning: Stochastic Optimizer: Maximum iterations (2000) reached and the optimization hasn't converged yet.\n",
      "  warnings.warn(\n"
     ]
    },
    {
     "name": "stdout",
     "output_type": "stream",
     "text": [
      "[CV] END activation=relu, alpha=0.001, hidden_layer_sizes=(100,), learning_rate_init=0.001, max_iter=2000, random_state=42; total time=  23.8s\n",
      "[CV] END activation=relu, alpha=0.001, hidden_layer_sizes=(50, 50), learning_rate_init=0.01, max_iter=2000, random_state=42; total time=   5.5s\n",
      "[CV] END activation=relu, alpha=0.001, hidden_layer_sizes=(50, 50), learning_rate_init=0.01, max_iter=2000, random_state=42; total time=   6.2s\n",
      "[CV] END activation=relu, alpha=0.001, hidden_layer_sizes=(50, 50), learning_rate_init=0.01, max_iter=2000, random_state=42; total time=   7.7s\n",
      "[CV] END activation=relu, alpha=0.001, hidden_layer_sizes=(50, 50), learning_rate_init=0.001, max_iter=2000, random_state=42; total time=  10.8s\n",
      "[CV] END activation=relu, alpha=0.001, hidden_layer_sizes=(50, 50), learning_rate_init=0.01, max_iter=2000, random_state=42; total time=   4.1s\n",
      "[CV] END activation=relu, alpha=0.001, hidden_layer_sizes=(50, 50), learning_rate_init=0.001, max_iter=2000, random_state=42; total time=  11.9s\n",
      "[CV] END activation=relu, alpha=0.001, hidden_layer_sizes=(50, 50), learning_rate_init=0.01, max_iter=2000, random_state=42; total time=   7.4s\n",
      "[CV] END activation=relu, alpha=0.001, hidden_layer_sizes=(50, 50), learning_rate_init=0.001, max_iter=2000, random_state=42; total time=  15.1s\n",
      "[CV] END activation=relu, alpha=0.001, hidden_layer_sizes=(50, 50), learning_rate_init=0.001, max_iter=2000, random_state=42; total time=  24.9s\n",
      "[CV] END activation=relu, alpha=0.01, hidden_layer_sizes=(50,), learning_rate_init=0.01, max_iter=2000, random_state=42; total time=  11.6s\n"
     ]
    },
    {
     "name": "stderr",
     "output_type": "stream",
     "text": [
      "/Users/jven/anaconda3/envs/bootcamp/lib/python3.11/site-packages/sklearn/neural_network/_multilayer_perceptron.py:691: ConvergenceWarning: Stochastic Optimizer: Maximum iterations (2000) reached and the optimization hasn't converged yet.\n",
      "  warnings.warn(\n"
     ]
    },
    {
     "name": "stdout",
     "output_type": "stream",
     "text": [
      "[CV] END activation=relu, alpha=0.01, hidden_layer_sizes=(50,), learning_rate_init=0.001, max_iter=2000, random_state=42; total time=  16.2s\n"
     ]
    },
    {
     "name": "stderr",
     "output_type": "stream",
     "text": [
      "/Users/jven/anaconda3/envs/bootcamp/lib/python3.11/site-packages/sklearn/neural_network/_multilayer_perceptron.py:691: ConvergenceWarning: Stochastic Optimizer: Maximum iterations (2000) reached and the optimization hasn't converged yet.\n",
      "  warnings.warn(\n"
     ]
    },
    {
     "name": "stdout",
     "output_type": "stream",
     "text": [
      "[CV] END activation=relu, alpha=0.01, hidden_layer_sizes=(50,), learning_rate_init=0.001, max_iter=2000, random_state=42; total time=  15.3s\n",
      "[CV] END activation=relu, alpha=0.001, hidden_layer_sizes=(50, 50), learning_rate_init=0.001, max_iter=2000, random_state=42; total time=  28.4s\n"
     ]
    },
    {
     "name": "stderr",
     "output_type": "stream",
     "text": [
      "/Users/jven/anaconda3/envs/bootcamp/lib/python3.11/site-packages/sklearn/neural_network/_multilayer_perceptron.py:691: ConvergenceWarning: Stochastic Optimizer: Maximum iterations (2000) reached and the optimization hasn't converged yet.\n",
      "  warnings.warn(\n"
     ]
    },
    {
     "name": "stdout",
     "output_type": "stream",
     "text": [
      "[CV] END activation=relu, alpha=0.01, hidden_layer_sizes=(50,), learning_rate_init=0.001, max_iter=2000, random_state=42; total time=  15.7s\n"
     ]
    },
    {
     "name": "stderr",
     "output_type": "stream",
     "text": [
      "/Users/jven/anaconda3/envs/bootcamp/lib/python3.11/site-packages/sklearn/neural_network/_multilayer_perceptron.py:691: ConvergenceWarning: Stochastic Optimizer: Maximum iterations (2000) reached and the optimization hasn't converged yet.\n",
      "  warnings.warn(\n"
     ]
    },
    {
     "name": "stdout",
     "output_type": "stream",
     "text": [
      "[CV] END activation=relu, alpha=0.01, hidden_layer_sizes=(50,), learning_rate_init=0.001, max_iter=2000, random_state=42; total time=  15.8s\n"
     ]
    },
    {
     "name": "stderr",
     "output_type": "stream",
     "text": [
      "/Users/jven/anaconda3/envs/bootcamp/lib/python3.11/site-packages/sklearn/neural_network/_multilayer_perceptron.py:691: ConvergenceWarning: Stochastic Optimizer: Maximum iterations (2000) reached and the optimization hasn't converged yet.\n",
      "  warnings.warn(\n"
     ]
    },
    {
     "name": "stdout",
     "output_type": "stream",
     "text": [
      "[CV] END activation=relu, alpha=0.01, hidden_layer_sizes=(50,), learning_rate_init=0.001, max_iter=2000, random_state=42; total time=  15.5s\n",
      "[CV] END activation=relu, alpha=0.01, hidden_layer_sizes=(50,), learning_rate_init=0.01, max_iter=2000, random_state=42; total time=   4.2s\n",
      "[CV] END activation=relu, alpha=0.01, hidden_layer_sizes=(50,), learning_rate_init=0.01, max_iter=2000, random_state=42; total time=  10.0s\n",
      "[CV] END activation=relu, alpha=0.01, hidden_layer_sizes=(50,), learning_rate_init=0.01, max_iter=2000, random_state=42; total time=   9.8s\n",
      "[CV] END activation=relu, alpha=0.01, hidden_layer_sizes=(50,), learning_rate_init=0.01, max_iter=2000, random_state=42; total time=   8.4s\n",
      "[CV] END activation=relu, alpha=0.01, hidden_layer_sizes=(100,), learning_rate_init=0.01, max_iter=2000, random_state=42; total time=   8.8s\n",
      "[CV] END activation=relu, alpha=0.01, hidden_layer_sizes=(100,), learning_rate_init=0.01, max_iter=2000, random_state=42; total time=   8.9s\n"
     ]
    },
    {
     "name": "stderr",
     "output_type": "stream",
     "text": [
      "/Users/jven/anaconda3/envs/bootcamp/lib/python3.11/site-packages/sklearn/neural_network/_multilayer_perceptron.py:691: ConvergenceWarning: Stochastic Optimizer: Maximum iterations (2000) reached and the optimization hasn't converged yet.\n",
      "  warnings.warn(\n",
      "/Users/jven/anaconda3/envs/bootcamp/lib/python3.11/site-packages/sklearn/neural_network/_multilayer_perceptron.py:691: ConvergenceWarning: Stochastic Optimizer: Maximum iterations (2000) reached and the optimization hasn't converged yet.\n",
      "  warnings.warn(\n"
     ]
    },
    {
     "name": "stdout",
     "output_type": "stream",
     "text": [
      "[CV] END activation=relu, alpha=0.01, hidden_layer_sizes=(100,), learning_rate_init=0.001, max_iter=2000, random_state=42; total time=  19.6s\n",
      "[CV] END activation=relu, alpha=0.01, hidden_layer_sizes=(100,), learning_rate_init=0.01, max_iter=2000, random_state=42; total time=  11.4s\n",
      "[CV] END activation=relu, alpha=0.01, hidden_layer_sizes=(100,), learning_rate_init=0.001, max_iter=2000, random_state=42; total time=  19.5s\n"
     ]
    },
    {
     "name": "stderr",
     "output_type": "stream",
     "text": [
      "/Users/jven/anaconda3/envs/bootcamp/lib/python3.11/site-packages/sklearn/neural_network/_multilayer_perceptron.py:691: ConvergenceWarning: Stochastic Optimizer: Maximum iterations (2000) reached and the optimization hasn't converged yet.\n",
      "  warnings.warn(\n"
     ]
    },
    {
     "name": "stdout",
     "output_type": "stream",
     "text": [
      "[CV] END activation=relu, alpha=0.01, hidden_layer_sizes=(100,), learning_rate_init=0.001, max_iter=2000, random_state=42; total time=  19.1s\n"
     ]
    },
    {
     "name": "stderr",
     "output_type": "stream",
     "text": [
      "/Users/jven/anaconda3/envs/bootcamp/lib/python3.11/site-packages/sklearn/neural_network/_multilayer_perceptron.py:691: ConvergenceWarning: Stochastic Optimizer: Maximum iterations (2000) reached and the optimization hasn't converged yet.\n",
      "  warnings.warn(\n"
     ]
    },
    {
     "name": "stdout",
     "output_type": "stream",
     "text": [
      "[CV] END activation=relu, alpha=0.01, hidden_layer_sizes=(100,), learning_rate_init=0.001, max_iter=2000, random_state=42; total time=  20.2s\n",
      "[CV] END activation=relu, alpha=0.01, hidden_layer_sizes=(100,), learning_rate_init=0.01, max_iter=2000, random_state=42; total time=   8.2s\n",
      "[CV] END activation=relu, alpha=0.01, hidden_layer_sizes=(100,), learning_rate_init=0.01, max_iter=2000, random_state=42; total time=   6.0s\n"
     ]
    },
    {
     "name": "stderr",
     "output_type": "stream",
     "text": [
      "/Users/jven/anaconda3/envs/bootcamp/lib/python3.11/site-packages/sklearn/neural_network/_multilayer_perceptron.py:691: ConvergenceWarning: Stochastic Optimizer: Maximum iterations (2000) reached and the optimization hasn't converged yet.\n",
      "  warnings.warn(\n"
     ]
    },
    {
     "name": "stdout",
     "output_type": "stream",
     "text": [
      "[CV] END activation=relu, alpha=0.01, hidden_layer_sizes=(100,), learning_rate_init=0.001, max_iter=2000, random_state=42; total time=  20.9s\n",
      "[CV] END activation=relu, alpha=0.01, hidden_layer_sizes=(50, 50), learning_rate_init=0.01, max_iter=2000, random_state=42; total time=   3.7s\n",
      "[CV] END activation=relu, alpha=0.01, hidden_layer_sizes=(50, 50), learning_rate_init=0.01, max_iter=2000, random_state=42; total time=   5.9s\n",
      "[CV] END activation=relu, alpha=0.01, hidden_layer_sizes=(50, 50), learning_rate_init=0.01, max_iter=2000, random_state=42; total time=   7.2s\n",
      "[CV] END activation=relu, alpha=0.01, hidden_layer_sizes=(50, 50), learning_rate_init=0.01, max_iter=2000, random_state=42; total time=   3.3s\n",
      "[CV] END activation=relu, alpha=0.01, hidden_layer_sizes=(50, 50), learning_rate_init=0.01, max_iter=2000, random_state=42; total time=   3.9s\n",
      "[CV] END activation=relu, alpha=0.01, hidden_layer_sizes=(50, 50), learning_rate_init=0.001, max_iter=2000, random_state=42; total time=  12.4s\n",
      "[CV] END activation=relu, alpha=0.01, hidden_layer_sizes=(50, 50), learning_rate_init=0.001, max_iter=2000, random_state=42; total time=  11.1s\n",
      "[CV] END activation=relu, alpha=0.01, hidden_layer_sizes=(50, 50), learning_rate_init=0.001, max_iter=2000, random_state=42; total time=  17.7s\n",
      "[CV] END activation=relu, alpha=0.01, hidden_layer_sizes=(50, 50), learning_rate_init=0.001, max_iter=2000, random_state=42; total time=  24.9s\n"
     ]
    },
    {
     "name": "stderr",
     "output_type": "stream",
     "text": [
      "/Users/jven/anaconda3/envs/bootcamp/lib/python3.11/site-packages/sklearn/neural_network/_multilayer_perceptron.py:691: ConvergenceWarning: Stochastic Optimizer: Maximum iterations (2000) reached and the optimization hasn't converged yet.\n",
      "  warnings.warn(\n"
     ]
    },
    {
     "name": "stdout",
     "output_type": "stream",
     "text": [
      "[CV] END activation=tanh, alpha=0.0001, hidden_layer_sizes=(50,), learning_rate_init=0.001, max_iter=2000, random_state=42; total time=  16.1s\n"
     ]
    },
    {
     "name": "stderr",
     "output_type": "stream",
     "text": [
      "/Users/jven/anaconda3/envs/bootcamp/lib/python3.11/site-packages/sklearn/neural_network/_multilayer_perceptron.py:691: ConvergenceWarning: Stochastic Optimizer: Maximum iterations (2000) reached and the optimization hasn't converged yet.\n",
      "  warnings.warn(\n"
     ]
    },
    {
     "name": "stdout",
     "output_type": "stream",
     "text": [
      "[CV] END activation=tanh, alpha=0.0001, hidden_layer_sizes=(50,), learning_rate_init=0.001, max_iter=2000, random_state=42; total time=  17.0s\n",
      "[CV] END activation=relu, alpha=0.01, hidden_layer_sizes=(50, 50), learning_rate_init=0.001, max_iter=2000, random_state=42; total time=  29.1s\n"
     ]
    },
    {
     "name": "stderr",
     "output_type": "stream",
     "text": [
      "/Users/jven/anaconda3/envs/bootcamp/lib/python3.11/site-packages/sklearn/neural_network/_multilayer_perceptron.py:691: ConvergenceWarning: Stochastic Optimizer: Maximum iterations (2000) reached and the optimization hasn't converged yet.\n",
      "  warnings.warn(\n"
     ]
    },
    {
     "name": "stdout",
     "output_type": "stream",
     "text": [
      "[CV] END activation=tanh, alpha=0.0001, hidden_layer_sizes=(50,), learning_rate_init=0.001, max_iter=2000, random_state=42; total time=  16.8s\n"
     ]
    },
    {
     "name": "stderr",
     "output_type": "stream",
     "text": [
      "/Users/jven/anaconda3/envs/bootcamp/lib/python3.11/site-packages/sklearn/neural_network/_multilayer_perceptron.py:691: ConvergenceWarning: Stochastic Optimizer: Maximum iterations (2000) reached and the optimization hasn't converged yet.\n",
      "  warnings.warn(\n"
     ]
    },
    {
     "name": "stdout",
     "output_type": "stream",
     "text": [
      "[CV] END activation=tanh, alpha=0.0001, hidden_layer_sizes=(50,), learning_rate_init=0.001, max_iter=2000, random_state=42; total time=  17.1s\n"
     ]
    },
    {
     "name": "stderr",
     "output_type": "stream",
     "text": [
      "/Users/jven/anaconda3/envs/bootcamp/lib/python3.11/site-packages/sklearn/neural_network/_multilayer_perceptron.py:691: ConvergenceWarning: Stochastic Optimizer: Maximum iterations (2000) reached and the optimization hasn't converged yet.\n",
      "  warnings.warn(\n"
     ]
    },
    {
     "name": "stdout",
     "output_type": "stream",
     "text": [
      "[CV] END activation=tanh, alpha=0.0001, hidden_layer_sizes=(50,), learning_rate_init=0.001, max_iter=2000, random_state=42; total time=  16.5s\n"
     ]
    },
    {
     "name": "stderr",
     "output_type": "stream",
     "text": [
      "/Users/jven/anaconda3/envs/bootcamp/lib/python3.11/site-packages/sklearn/neural_network/_multilayer_perceptron.py:691: ConvergenceWarning: Stochastic Optimizer: Maximum iterations (2000) reached and the optimization hasn't converged yet.\n",
      "  warnings.warn(\n"
     ]
    },
    {
     "name": "stdout",
     "output_type": "stream",
     "text": [
      "[CV] END activation=tanh, alpha=0.0001, hidden_layer_sizes=(50,), learning_rate_init=0.01, max_iter=2000, random_state=42; total time=  17.2s\n"
     ]
    },
    {
     "name": "stderr",
     "output_type": "stream",
     "text": [
      "/Users/jven/anaconda3/envs/bootcamp/lib/python3.11/site-packages/sklearn/neural_network/_multilayer_perceptron.py:691: ConvergenceWarning: Stochastic Optimizer: Maximum iterations (2000) reached and the optimization hasn't converged yet.\n",
      "  warnings.warn(\n"
     ]
    },
    {
     "name": "stdout",
     "output_type": "stream",
     "text": [
      "[CV] END activation=tanh, alpha=0.0001, hidden_layer_sizes=(50,), learning_rate_init=0.01, max_iter=2000, random_state=42; total time=  18.0s\n"
     ]
    },
    {
     "name": "stderr",
     "output_type": "stream",
     "text": [
      "/Users/jven/anaconda3/envs/bootcamp/lib/python3.11/site-packages/sklearn/neural_network/_multilayer_perceptron.py:691: ConvergenceWarning: Stochastic Optimizer: Maximum iterations (2000) reached and the optimization hasn't converged yet.\n",
      "  warnings.warn(\n"
     ]
    },
    {
     "name": "stdout",
     "output_type": "stream",
     "text": [
      "[CV] END activation=tanh, alpha=0.0001, hidden_layer_sizes=(50,), learning_rate_init=0.01, max_iter=2000, random_state=42; total time=  16.9s\n"
     ]
    },
    {
     "name": "stderr",
     "output_type": "stream",
     "text": [
      "/Users/jven/anaconda3/envs/bootcamp/lib/python3.11/site-packages/sklearn/neural_network/_multilayer_perceptron.py:691: ConvergenceWarning: Stochastic Optimizer: Maximum iterations (2000) reached and the optimization hasn't converged yet.\n",
      "  warnings.warn(\n"
     ]
    },
    {
     "name": "stdout",
     "output_type": "stream",
     "text": [
      "[CV] END activation=tanh, alpha=0.0001, hidden_layer_sizes=(50,), learning_rate_init=0.01, max_iter=2000, random_state=42; total time=  17.4s\n"
     ]
    },
    {
     "name": "stderr",
     "output_type": "stream",
     "text": [
      "/Users/jven/anaconda3/envs/bootcamp/lib/python3.11/site-packages/sklearn/neural_network/_multilayer_perceptron.py:691: ConvergenceWarning: Stochastic Optimizer: Maximum iterations (2000) reached and the optimization hasn't converged yet.\n",
      "  warnings.warn(\n"
     ]
    },
    {
     "name": "stdout",
     "output_type": "stream",
     "text": [
      "[CV] END activation=tanh, alpha=0.0001, hidden_layer_sizes=(50,), learning_rate_init=0.01, max_iter=2000, random_state=42; total time=  17.1s\n"
     ]
    },
    {
     "name": "stderr",
     "output_type": "stream",
     "text": [
      "/Users/jven/anaconda3/envs/bootcamp/lib/python3.11/site-packages/sklearn/neural_network/_multilayer_perceptron.py:691: ConvergenceWarning: Stochastic Optimizer: Maximum iterations (2000) reached and the optimization hasn't converged yet.\n",
      "  warnings.warn(\n"
     ]
    },
    {
     "name": "stdout",
     "output_type": "stream",
     "text": [
      "[CV] END activation=tanh, alpha=0.0001, hidden_layer_sizes=(100,), learning_rate_init=0.001, max_iter=2000, random_state=42; total time=  26.4s\n"
     ]
    },
    {
     "name": "stderr",
     "output_type": "stream",
     "text": [
      "/Users/jven/anaconda3/envs/bootcamp/lib/python3.11/site-packages/sklearn/neural_network/_multilayer_perceptron.py:691: ConvergenceWarning: Stochastic Optimizer: Maximum iterations (2000) reached and the optimization hasn't converged yet.\n",
      "  warnings.warn(\n"
     ]
    },
    {
     "name": "stdout",
     "output_type": "stream",
     "text": [
      "[CV] END activation=tanh, alpha=0.0001, hidden_layer_sizes=(100,), learning_rate_init=0.001, max_iter=2000, random_state=42; total time=  26.9s\n"
     ]
    },
    {
     "name": "stderr",
     "output_type": "stream",
     "text": [
      "/Users/jven/anaconda3/envs/bootcamp/lib/python3.11/site-packages/sklearn/neural_network/_multilayer_perceptron.py:691: ConvergenceWarning: Stochastic Optimizer: Maximum iterations (2000) reached and the optimization hasn't converged yet.\n",
      "  warnings.warn(\n"
     ]
    },
    {
     "name": "stdout",
     "output_type": "stream",
     "text": [
      "[CV] END activation=tanh, alpha=0.0001, hidden_layer_sizes=(100,), learning_rate_init=0.001, max_iter=2000, random_state=42; total time=  27.5s\n"
     ]
    },
    {
     "name": "stderr",
     "output_type": "stream",
     "text": [
      "/Users/jven/anaconda3/envs/bootcamp/lib/python3.11/site-packages/sklearn/neural_network/_multilayer_perceptron.py:691: ConvergenceWarning: Stochastic Optimizer: Maximum iterations (2000) reached and the optimization hasn't converged yet.\n",
      "  warnings.warn(\n"
     ]
    },
    {
     "name": "stdout",
     "output_type": "stream",
     "text": [
      "[CV] END activation=tanh, alpha=0.0001, hidden_layer_sizes=(100,), learning_rate_init=0.001, max_iter=2000, random_state=42; total time=  26.5s\n"
     ]
    },
    {
     "name": "stderr",
     "output_type": "stream",
     "text": [
      "/Users/jven/anaconda3/envs/bootcamp/lib/python3.11/site-packages/sklearn/neural_network/_multilayer_perceptron.py:691: ConvergenceWarning: Stochastic Optimizer: Maximum iterations (2000) reached and the optimization hasn't converged yet.\n",
      "  warnings.warn(\n"
     ]
    },
    {
     "name": "stdout",
     "output_type": "stream",
     "text": [
      "[CV] END activation=tanh, alpha=0.0001, hidden_layer_sizes=(100,), learning_rate_init=0.001, max_iter=2000, random_state=42; total time=  26.5s\n"
     ]
    },
    {
     "name": "stderr",
     "output_type": "stream",
     "text": [
      "/Users/jven/anaconda3/envs/bootcamp/lib/python3.11/site-packages/sklearn/neural_network/_multilayer_perceptron.py:691: ConvergenceWarning: Stochastic Optimizer: Maximum iterations (2000) reached and the optimization hasn't converged yet.\n",
      "  warnings.warn(\n"
     ]
    },
    {
     "name": "stdout",
     "output_type": "stream",
     "text": [
      "[CV] END activation=tanh, alpha=0.0001, hidden_layer_sizes=(100,), learning_rate_init=0.01, max_iter=2000, random_state=42; total time=  26.2s\n"
     ]
    },
    {
     "name": "stderr",
     "output_type": "stream",
     "text": [
      "/Users/jven/anaconda3/envs/bootcamp/lib/python3.11/site-packages/sklearn/neural_network/_multilayer_perceptron.py:691: ConvergenceWarning: Stochastic Optimizer: Maximum iterations (2000) reached and the optimization hasn't converged yet.\n",
      "  warnings.warn(\n"
     ]
    },
    {
     "name": "stdout",
     "output_type": "stream",
     "text": [
      "[CV] END activation=tanh, alpha=0.0001, hidden_layer_sizes=(100,), learning_rate_init=0.01, max_iter=2000, random_state=42; total time=  26.6s\n"
     ]
    },
    {
     "name": "stderr",
     "output_type": "stream",
     "text": [
      "/Users/jven/anaconda3/envs/bootcamp/lib/python3.11/site-packages/sklearn/neural_network/_multilayer_perceptron.py:691: ConvergenceWarning: Stochastic Optimizer: Maximum iterations (2000) reached and the optimization hasn't converged yet.\n",
      "  warnings.warn(\n"
     ]
    },
    {
     "name": "stdout",
     "output_type": "stream",
     "text": [
      "[CV] END activation=tanh, alpha=0.0001, hidden_layer_sizes=(100,), learning_rate_init=0.01, max_iter=2000, random_state=42; total time=  26.7s\n"
     ]
    },
    {
     "name": "stderr",
     "output_type": "stream",
     "text": [
      "/Users/jven/anaconda3/envs/bootcamp/lib/python3.11/site-packages/sklearn/neural_network/_multilayer_perceptron.py:691: ConvergenceWarning: Stochastic Optimizer: Maximum iterations (2000) reached and the optimization hasn't converged yet.\n",
      "  warnings.warn(\n",
      "/Users/jven/anaconda3/envs/bootcamp/lib/python3.11/site-packages/sklearn/neural_network/_multilayer_perceptron.py:691: ConvergenceWarning: Stochastic Optimizer: Maximum iterations (2000) reached and the optimization hasn't converged yet.\n",
      "  warnings.warn(\n"
     ]
    },
    {
     "name": "stdout",
     "output_type": "stream",
     "text": [
      "[CV] END activation=tanh, alpha=0.0001, hidden_layer_sizes=(100,), learning_rate_init=0.01, max_iter=2000, random_state=42; total time=  25.6s\n",
      "[CV] END activation=tanh, alpha=0.0001, hidden_layer_sizes=(100,), learning_rate_init=0.01, max_iter=2000, random_state=42; total time=  24.9s\n"
     ]
    },
    {
     "name": "stderr",
     "output_type": "stream",
     "text": [
      "/Users/jven/anaconda3/envs/bootcamp/lib/python3.11/site-packages/sklearn/neural_network/_multilayer_perceptron.py:691: ConvergenceWarning: Stochastic Optimizer: Maximum iterations (2000) reached and the optimization hasn't converged yet.\n",
      "  warnings.warn(\n"
     ]
    },
    {
     "name": "stdout",
     "output_type": "stream",
     "text": [
      "[CV] END activation=tanh, alpha=0.0001, hidden_layer_sizes=(50, 50), learning_rate_init=0.001, max_iter=2000, random_state=42; total time=  40.4s\n"
     ]
    },
    {
     "name": "stderr",
     "output_type": "stream",
     "text": [
      "/Users/jven/anaconda3/envs/bootcamp/lib/python3.11/site-packages/sklearn/neural_network/_multilayer_perceptron.py:691: ConvergenceWarning: Stochastic Optimizer: Maximum iterations (2000) reached and the optimization hasn't converged yet.\n",
      "  warnings.warn(\n"
     ]
    },
    {
     "name": "stdout",
     "output_type": "stream",
     "text": [
      "[CV] END activation=tanh, alpha=0.0001, hidden_layer_sizes=(50, 50), learning_rate_init=0.001, max_iter=2000, random_state=42; total time=  40.1s\n"
     ]
    },
    {
     "name": "stderr",
     "output_type": "stream",
     "text": [
      "/Users/jven/anaconda3/envs/bootcamp/lib/python3.11/site-packages/sklearn/neural_network/_multilayer_perceptron.py:691: ConvergenceWarning: Stochastic Optimizer: Maximum iterations (2000) reached and the optimization hasn't converged yet.\n",
      "  warnings.warn(\n"
     ]
    },
    {
     "name": "stdout",
     "output_type": "stream",
     "text": [
      "[CV] END activation=tanh, alpha=0.0001, hidden_layer_sizes=(50, 50), learning_rate_init=0.001, max_iter=2000, random_state=42; total time=  43.0s\n"
     ]
    },
    {
     "name": "stderr",
     "output_type": "stream",
     "text": [
      "/Users/jven/anaconda3/envs/bootcamp/lib/python3.11/site-packages/sklearn/neural_network/_multilayer_perceptron.py:691: ConvergenceWarning: Stochastic Optimizer: Maximum iterations (2000) reached and the optimization hasn't converged yet.\n",
      "  warnings.warn(\n"
     ]
    },
    {
     "name": "stdout",
     "output_type": "stream",
     "text": [
      "[CV] END activation=tanh, alpha=0.0001, hidden_layer_sizes=(50, 50), learning_rate_init=0.001, max_iter=2000, random_state=42; total time=  43.6s\n"
     ]
    },
    {
     "name": "stderr",
     "output_type": "stream",
     "text": [
      "/Users/jven/anaconda3/envs/bootcamp/lib/python3.11/site-packages/sklearn/neural_network/_multilayer_perceptron.py:691: ConvergenceWarning: Stochastic Optimizer: Maximum iterations (2000) reached and the optimization hasn't converged yet.\n",
      "  warnings.warn(\n"
     ]
    },
    {
     "name": "stdout",
     "output_type": "stream",
     "text": [
      "[CV] END activation=tanh, alpha=0.0001, hidden_layer_sizes=(50, 50), learning_rate_init=0.001, max_iter=2000, random_state=42; total time=  45.2s\n"
     ]
    },
    {
     "name": "stderr",
     "output_type": "stream",
     "text": [
      "/Users/jven/anaconda3/envs/bootcamp/lib/python3.11/site-packages/sklearn/neural_network/_multilayer_perceptron.py:691: ConvergenceWarning: Stochastic Optimizer: Maximum iterations (2000) reached and the optimization hasn't converged yet.\n",
      "  warnings.warn(\n"
     ]
    },
    {
     "name": "stdout",
     "output_type": "stream",
     "text": [
      "[CV] END activation=tanh, alpha=0.0001, hidden_layer_sizes=(50, 50), learning_rate_init=0.01, max_iter=2000, random_state=42; total time=  47.7s\n"
     ]
    },
    {
     "name": "stderr",
     "output_type": "stream",
     "text": [
      "/Users/jven/anaconda3/envs/bootcamp/lib/python3.11/site-packages/sklearn/neural_network/_multilayer_perceptron.py:691: ConvergenceWarning: Stochastic Optimizer: Maximum iterations (2000) reached and the optimization hasn't converged yet.\n",
      "  warnings.warn(\n",
      "/Users/jven/anaconda3/envs/bootcamp/lib/python3.11/site-packages/sklearn/neural_network/_multilayer_perceptron.py:691: ConvergenceWarning: Stochastic Optimizer: Maximum iterations (2000) reached and the optimization hasn't converged yet.\n",
      "  warnings.warn(\n"
     ]
    },
    {
     "name": "stdout",
     "output_type": "stream",
     "text": [
      "[CV] END activation=tanh, alpha=0.0001, hidden_layer_sizes=(50, 50), learning_rate_init=0.01, max_iter=2000, random_state=42; total time=  51.6s\n",
      "[CV] END activation=tanh, alpha=0.0001, hidden_layer_sizes=(50, 50), learning_rate_init=0.01, max_iter=2000, random_state=42; total time=  51.7s\n"
     ]
    },
    {
     "name": "stderr",
     "output_type": "stream",
     "text": [
      "/Users/jven/anaconda3/envs/bootcamp/lib/python3.11/site-packages/sklearn/neural_network/_multilayer_perceptron.py:691: ConvergenceWarning: Stochastic Optimizer: Maximum iterations (2000) reached and the optimization hasn't converged yet.\n",
      "  warnings.warn(\n"
     ]
    },
    {
     "name": "stdout",
     "output_type": "stream",
     "text": [
      "[CV] END activation=tanh, alpha=0.001, hidden_layer_sizes=(50,), learning_rate_init=0.001, max_iter=2000, random_state=42; total time=  25.6s\n"
     ]
    },
    {
     "name": "stderr",
     "output_type": "stream",
     "text": [
      "/Users/jven/anaconda3/envs/bootcamp/lib/python3.11/site-packages/sklearn/neural_network/_multilayer_perceptron.py:691: ConvergenceWarning: Stochastic Optimizer: Maximum iterations (2000) reached and the optimization hasn't converged yet.\n",
      "  warnings.warn(\n"
     ]
    },
    {
     "name": "stdout",
     "output_type": "stream",
     "text": [
      "[CV] END activation=tanh, alpha=0.001, hidden_layer_sizes=(50,), learning_rate_init=0.001, max_iter=2000, random_state=42; total time=  27.0s\n"
     ]
    },
    {
     "name": "stderr",
     "output_type": "stream",
     "text": [
      "/Users/jven/anaconda3/envs/bootcamp/lib/python3.11/site-packages/sklearn/neural_network/_multilayer_perceptron.py:691: ConvergenceWarning: Stochastic Optimizer: Maximum iterations (2000) reached and the optimization hasn't converged yet.\n",
      "  warnings.warn(\n"
     ]
    },
    {
     "name": "stdout",
     "output_type": "stream",
     "text": [
      "[CV] END activation=tanh, alpha=0.001, hidden_layer_sizes=(50,), learning_rate_init=0.001, max_iter=2000, random_state=42; total time=  26.9s\n"
     ]
    },
    {
     "name": "stderr",
     "output_type": "stream",
     "text": [
      "/Users/jven/anaconda3/envs/bootcamp/lib/python3.11/site-packages/sklearn/neural_network/_multilayer_perceptron.py:691: ConvergenceWarning: Stochastic Optimizer: Maximum iterations (2000) reached and the optimization hasn't converged yet.\n",
      "  warnings.warn(\n"
     ]
    },
    {
     "name": "stdout",
     "output_type": "stream",
     "text": [
      "[CV] END activation=tanh, alpha=0.001, hidden_layer_sizes=(50,), learning_rate_init=0.001, max_iter=2000, random_state=42; total time=  25.5s\n"
     ]
    },
    {
     "name": "stderr",
     "output_type": "stream",
     "text": [
      "/Users/jven/anaconda3/envs/bootcamp/lib/python3.11/site-packages/sklearn/neural_network/_multilayer_perceptron.py:691: ConvergenceWarning: Stochastic Optimizer: Maximum iterations (2000) reached and the optimization hasn't converged yet.\n",
      "  warnings.warn(\n"
     ]
    },
    {
     "name": "stdout",
     "output_type": "stream",
     "text": [
      "[CV] END activation=tanh, alpha=0.0001, hidden_layer_sizes=(50, 50), learning_rate_init=0.01, max_iter=2000, random_state=42; total time=  54.9s\n"
     ]
    },
    {
     "name": "stderr",
     "output_type": "stream",
     "text": [
      "/Users/jven/anaconda3/envs/bootcamp/lib/python3.11/site-packages/sklearn/neural_network/_multilayer_perceptron.py:691: ConvergenceWarning: Stochastic Optimizer: Maximum iterations (2000) reached and the optimization hasn't converged yet.\n",
      "  warnings.warn(\n"
     ]
    },
    {
     "name": "stdout",
     "output_type": "stream",
     "text": [
      "[CV] END activation=tanh, alpha=0.0001, hidden_layer_sizes=(50, 50), learning_rate_init=0.01, max_iter=2000, random_state=42; total time= 1.0min\n"
     ]
    },
    {
     "name": "stderr",
     "output_type": "stream",
     "text": [
      "/Users/jven/anaconda3/envs/bootcamp/lib/python3.11/site-packages/sklearn/neural_network/_multilayer_perceptron.py:691: ConvergenceWarning: Stochastic Optimizer: Maximum iterations (2000) reached and the optimization hasn't converged yet.\n",
      "  warnings.warn(\n"
     ]
    },
    {
     "name": "stdout",
     "output_type": "stream",
     "text": [
      "[CV] END activation=tanh, alpha=0.001, hidden_layer_sizes=(50,), learning_rate_init=0.01, max_iter=2000, random_state=42; total time=  32.1s\n"
     ]
    },
    {
     "name": "stderr",
     "output_type": "stream",
     "text": [
      "/Users/jven/anaconda3/envs/bootcamp/lib/python3.11/site-packages/sklearn/neural_network/_multilayer_perceptron.py:691: ConvergenceWarning: Stochastic Optimizer: Maximum iterations (2000) reached and the optimization hasn't converged yet.\n",
      "  warnings.warn(\n"
     ]
    },
    {
     "name": "stdout",
     "output_type": "stream",
     "text": [
      "[CV] END activation=tanh, alpha=0.001, hidden_layer_sizes=(50,), learning_rate_init=0.001, max_iter=2000, random_state=42; total time=  34.4s\n"
     ]
    },
    {
     "name": "stderr",
     "output_type": "stream",
     "text": [
      "/Users/jven/anaconda3/envs/bootcamp/lib/python3.11/site-packages/sklearn/neural_network/_multilayer_perceptron.py:691: ConvergenceWarning: Stochastic Optimizer: Maximum iterations (2000) reached and the optimization hasn't converged yet.\n",
      "  warnings.warn(\n"
     ]
    },
    {
     "name": "stdout",
     "output_type": "stream",
     "text": [
      "[CV] END activation=tanh, alpha=0.001, hidden_layer_sizes=(50,), learning_rate_init=0.01, max_iter=2000, random_state=42; total time=  34.2s\n"
     ]
    },
    {
     "name": "stderr",
     "output_type": "stream",
     "text": [
      "/Users/jven/anaconda3/envs/bootcamp/lib/python3.11/site-packages/sklearn/neural_network/_multilayer_perceptron.py:691: ConvergenceWarning: Stochastic Optimizer: Maximum iterations (2000) reached and the optimization hasn't converged yet.\n",
      "  warnings.warn(\n"
     ]
    },
    {
     "name": "stdout",
     "output_type": "stream",
     "text": [
      "[CV] END activation=tanh, alpha=0.001, hidden_layer_sizes=(50,), learning_rate_init=0.01, max_iter=2000, random_state=42; total time=  32.4s\n"
     ]
    },
    {
     "name": "stderr",
     "output_type": "stream",
     "text": [
      "/Users/jven/anaconda3/envs/bootcamp/lib/python3.11/site-packages/sklearn/neural_network/_multilayer_perceptron.py:691: ConvergenceWarning: Stochastic Optimizer: Maximum iterations (2000) reached and the optimization hasn't converged yet.\n",
      "  warnings.warn(\n"
     ]
    },
    {
     "name": "stdout",
     "output_type": "stream",
     "text": [
      "[CV] END activation=tanh, alpha=0.001, hidden_layer_sizes=(50,), learning_rate_init=0.01, max_iter=2000, random_state=42; total time=  31.9s\n"
     ]
    },
    {
     "name": "stderr",
     "output_type": "stream",
     "text": [
      "/Users/jven/anaconda3/envs/bootcamp/lib/python3.11/site-packages/sklearn/neural_network/_multilayer_perceptron.py:691: ConvergenceWarning: Stochastic Optimizer: Maximum iterations (2000) reached and the optimization hasn't converged yet.\n",
      "  warnings.warn(\n"
     ]
    },
    {
     "name": "stdout",
     "output_type": "stream",
     "text": [
      "[CV] END activation=tanh, alpha=0.001, hidden_layer_sizes=(50,), learning_rate_init=0.01, max_iter=2000, random_state=42; total time=  33.5s\n"
     ]
    },
    {
     "name": "stderr",
     "output_type": "stream",
     "text": [
      "/Users/jven/anaconda3/envs/bootcamp/lib/python3.11/site-packages/sklearn/neural_network/_multilayer_perceptron.py:691: ConvergenceWarning: Stochastic Optimizer: Maximum iterations (2000) reached and the optimization hasn't converged yet.\n",
      "  warnings.warn(\n"
     ]
    },
    {
     "name": "stdout",
     "output_type": "stream",
     "text": [
      "[CV] END activation=tanh, alpha=0.001, hidden_layer_sizes=(100,), learning_rate_init=0.001, max_iter=2000, random_state=42; total time=  49.3s\n"
     ]
    },
    {
     "name": "stderr",
     "output_type": "stream",
     "text": [
      "/Users/jven/anaconda3/envs/bootcamp/lib/python3.11/site-packages/sklearn/neural_network/_multilayer_perceptron.py:691: ConvergenceWarning: Stochastic Optimizer: Maximum iterations (2000) reached and the optimization hasn't converged yet.\n",
      "  warnings.warn(\n"
     ]
    },
    {
     "name": "stdout",
     "output_type": "stream",
     "text": [
      "[CV] END activation=tanh, alpha=0.001, hidden_layer_sizes=(100,), learning_rate_init=0.001, max_iter=2000, random_state=42; total time=  44.9s\n"
     ]
    },
    {
     "name": "stderr",
     "output_type": "stream",
     "text": [
      "/Users/jven/anaconda3/envs/bootcamp/lib/python3.11/site-packages/sklearn/neural_network/_multilayer_perceptron.py:691: ConvergenceWarning: Stochastic Optimizer: Maximum iterations (2000) reached and the optimization hasn't converged yet.\n",
      "  warnings.warn(\n"
     ]
    },
    {
     "name": "stdout",
     "output_type": "stream",
     "text": [
      "[CV] END activation=tanh, alpha=0.001, hidden_layer_sizes=(100,), learning_rate_init=0.001, max_iter=2000, random_state=42; total time=  46.4s\n"
     ]
    },
    {
     "name": "stderr",
     "output_type": "stream",
     "text": [
      "/Users/jven/anaconda3/envs/bootcamp/lib/python3.11/site-packages/sklearn/neural_network/_multilayer_perceptron.py:691: ConvergenceWarning: Stochastic Optimizer: Maximum iterations (2000) reached and the optimization hasn't converged yet.\n",
      "  warnings.warn(\n"
     ]
    },
    {
     "name": "stdout",
     "output_type": "stream",
     "text": [
      "[CV] END activation=tanh, alpha=0.001, hidden_layer_sizes=(100,), learning_rate_init=0.001, max_iter=2000, random_state=42; total time=  46.3s\n"
     ]
    },
    {
     "name": "stderr",
     "output_type": "stream",
     "text": [
      "/Users/jven/anaconda3/envs/bootcamp/lib/python3.11/site-packages/sklearn/neural_network/_multilayer_perceptron.py:691: ConvergenceWarning: Stochastic Optimizer: Maximum iterations (2000) reached and the optimization hasn't converged yet.\n",
      "  warnings.warn(\n"
     ]
    },
    {
     "name": "stdout",
     "output_type": "stream",
     "text": [
      "[CV] END activation=tanh, alpha=0.001, hidden_layer_sizes=(100,), learning_rate_init=0.01, max_iter=2000, random_state=42; total time=  47.1s\n"
     ]
    },
    {
     "name": "stderr",
     "output_type": "stream",
     "text": [
      "/Users/jven/anaconda3/envs/bootcamp/lib/python3.11/site-packages/sklearn/neural_network/_multilayer_perceptron.py:691: ConvergenceWarning: Stochastic Optimizer: Maximum iterations (2000) reached and the optimization hasn't converged yet.\n",
      "  warnings.warn(\n"
     ]
    },
    {
     "name": "stdout",
     "output_type": "stream",
     "text": [
      "[CV] END activation=tanh, alpha=0.001, hidden_layer_sizes=(100,), learning_rate_init=0.001, max_iter=2000, random_state=42; total time=  48.3s\n"
     ]
    },
    {
     "name": "stderr",
     "output_type": "stream",
     "text": [
      "/Users/jven/anaconda3/envs/bootcamp/lib/python3.11/site-packages/sklearn/neural_network/_multilayer_perceptron.py:691: ConvergenceWarning: Stochastic Optimizer: Maximum iterations (2000) reached and the optimization hasn't converged yet.\n",
      "  warnings.warn(\n"
     ]
    },
    {
     "name": "stdout",
     "output_type": "stream",
     "text": [
      "[CV] END activation=tanh, alpha=0.001, hidden_layer_sizes=(100,), learning_rate_init=0.01, max_iter=2000, random_state=42; total time=  42.9s\n"
     ]
    },
    {
     "name": "stderr",
     "output_type": "stream",
     "text": [
      "/Users/jven/anaconda3/envs/bootcamp/lib/python3.11/site-packages/sklearn/neural_network/_multilayer_perceptron.py:691: ConvergenceWarning: Stochastic Optimizer: Maximum iterations (2000) reached and the optimization hasn't converged yet.\n",
      "  warnings.warn(\n"
     ]
    },
    {
     "name": "stdout",
     "output_type": "stream",
     "text": [
      "[CV] END activation=tanh, alpha=0.001, hidden_layer_sizes=(100,), learning_rate_init=0.01, max_iter=2000, random_state=42; total time=  58.2s\n"
     ]
    },
    {
     "name": "stderr",
     "output_type": "stream",
     "text": [
      "/Users/jven/anaconda3/envs/bootcamp/lib/python3.11/site-packages/sklearn/neural_network/_multilayer_perceptron.py:691: ConvergenceWarning: Stochastic Optimizer: Maximum iterations (2000) reached and the optimization hasn't converged yet.\n",
      "  warnings.warn(\n"
     ]
    },
    {
     "name": "stdout",
     "output_type": "stream",
     "text": [
      "[CV] END activation=tanh, alpha=0.001, hidden_layer_sizes=(100,), learning_rate_init=0.01, max_iter=2000, random_state=42; total time=  56.2s\n"
     ]
    },
    {
     "name": "stderr",
     "output_type": "stream",
     "text": [
      "/Users/jven/anaconda3/envs/bootcamp/lib/python3.11/site-packages/sklearn/neural_network/_multilayer_perceptron.py:691: ConvergenceWarning: Stochastic Optimizer: Maximum iterations (2000) reached and the optimization hasn't converged yet.\n",
      "  warnings.warn(\n"
     ]
    },
    {
     "name": "stdout",
     "output_type": "stream",
     "text": [
      "[CV] END activation=tanh, alpha=0.001, hidden_layer_sizes=(100,), learning_rate_init=0.01, max_iter=2000, random_state=42; total time=  55.9s\n"
     ]
    },
    {
     "name": "stderr",
     "output_type": "stream",
     "text": [
      "/Users/jven/anaconda3/envs/bootcamp/lib/python3.11/site-packages/sklearn/neural_network/_multilayer_perceptron.py:691: ConvergenceWarning: Stochastic Optimizer: Maximum iterations (2000) reached and the optimization hasn't converged yet.\n",
      "  warnings.warn(\n"
     ]
    },
    {
     "name": "stdout",
     "output_type": "stream",
     "text": [
      "[CV] END activation=tanh, alpha=0.001, hidden_layer_sizes=(50, 50), learning_rate_init=0.001, max_iter=2000, random_state=42; total time= 1.3min\n"
     ]
    },
    {
     "name": "stderr",
     "output_type": "stream",
     "text": [
      "/Users/jven/anaconda3/envs/bootcamp/lib/python3.11/site-packages/sklearn/neural_network/_multilayer_perceptron.py:691: ConvergenceWarning: Stochastic Optimizer: Maximum iterations (2000) reached and the optimization hasn't converged yet.\n",
      "  warnings.warn(\n"
     ]
    },
    {
     "name": "stdout",
     "output_type": "stream",
     "text": [
      "[CV] END activation=tanh, alpha=0.001, hidden_layer_sizes=(50, 50), learning_rate_init=0.001, max_iter=2000, random_state=42; total time= 1.5min\n"
     ]
    },
    {
     "name": "stderr",
     "output_type": "stream",
     "text": [
      "/Users/jven/anaconda3/envs/bootcamp/lib/python3.11/site-packages/sklearn/neural_network/_multilayer_perceptron.py:691: ConvergenceWarning: Stochastic Optimizer: Maximum iterations (2000) reached and the optimization hasn't converged yet.\n",
      "  warnings.warn(\n"
     ]
    },
    {
     "name": "stdout",
     "output_type": "stream",
     "text": [
      "[CV] END activation=tanh, alpha=0.001, hidden_layer_sizes=(50, 50), learning_rate_init=0.001, max_iter=2000, random_state=42; total time= 1.4min\n"
     ]
    },
    {
     "name": "stderr",
     "output_type": "stream",
     "text": [
      "/Users/jven/anaconda3/envs/bootcamp/lib/python3.11/site-packages/sklearn/neural_network/_multilayer_perceptron.py:691: ConvergenceWarning: Stochastic Optimizer: Maximum iterations (2000) reached and the optimization hasn't converged yet.\n",
      "  warnings.warn(\n",
      "/Users/jven/anaconda3/envs/bootcamp/lib/python3.11/site-packages/sklearn/neural_network/_multilayer_perceptron.py:691: ConvergenceWarning: Stochastic Optimizer: Maximum iterations (2000) reached and the optimization hasn't converged yet.\n",
      "  warnings.warn(\n"
     ]
    },
    {
     "name": "stdout",
     "output_type": "stream",
     "text": [
      "[CV] END activation=tanh, alpha=0.001, hidden_layer_sizes=(50, 50), learning_rate_init=0.001, max_iter=2000, random_state=42; total time= 1.5min\n",
      "[CV] END activation=tanh, alpha=0.001, hidden_layer_sizes=(50, 50), learning_rate_init=0.001, max_iter=2000, random_state=42; total time= 1.5min\n"
     ]
    },
    {
     "name": "stderr",
     "output_type": "stream",
     "text": [
      "/Users/jven/anaconda3/envs/bootcamp/lib/python3.11/site-packages/sklearn/neural_network/_multilayer_perceptron.py:691: ConvergenceWarning: Stochastic Optimizer: Maximum iterations (2000) reached and the optimization hasn't converged yet.\n",
      "  warnings.warn(\n"
     ]
    },
    {
     "name": "stdout",
     "output_type": "stream",
     "text": [
      "[CV] END activation=tanh, alpha=0.001, hidden_layer_sizes=(50, 50), learning_rate_init=0.01, max_iter=2000, random_state=42; total time= 1.5min\n"
     ]
    },
    {
     "name": "stderr",
     "output_type": "stream",
     "text": [
      "/Users/jven/anaconda3/envs/bootcamp/lib/python3.11/site-packages/sklearn/neural_network/_multilayer_perceptron.py:691: ConvergenceWarning: Stochastic Optimizer: Maximum iterations (2000) reached and the optimization hasn't converged yet.\n",
      "  warnings.warn(\n"
     ]
    },
    {
     "name": "stdout",
     "output_type": "stream",
     "text": [
      "[CV] END activation=tanh, alpha=0.001, hidden_layer_sizes=(50, 50), learning_rate_init=0.01, max_iter=2000, random_state=42; total time= 1.2min\n"
     ]
    },
    {
     "name": "stderr",
     "output_type": "stream",
     "text": [
      "/Users/jven/anaconda3/envs/bootcamp/lib/python3.11/site-packages/sklearn/neural_network/_multilayer_perceptron.py:691: ConvergenceWarning: Stochastic Optimizer: Maximum iterations (2000) reached and the optimization hasn't converged yet.\n",
      "  warnings.warn(\n"
     ]
    },
    {
     "name": "stdout",
     "output_type": "stream",
     "text": [
      "[CV] END activation=tanh, alpha=0.01, hidden_layer_sizes=(50,), learning_rate_init=0.001, max_iter=2000, random_state=42; total time=  27.7s\n"
     ]
    },
    {
     "name": "stderr",
     "output_type": "stream",
     "text": [
      "/Users/jven/anaconda3/envs/bootcamp/lib/python3.11/site-packages/sklearn/neural_network/_multilayer_perceptron.py:691: ConvergenceWarning: Stochastic Optimizer: Maximum iterations (2000) reached and the optimization hasn't converged yet.\n",
      "  warnings.warn(\n"
     ]
    },
    {
     "name": "stdout",
     "output_type": "stream",
     "text": [
      "[CV] END activation=tanh, alpha=0.001, hidden_layer_sizes=(50, 50), learning_rate_init=0.01, max_iter=2000, random_state=42; total time= 1.2min\n"
     ]
    },
    {
     "name": "stderr",
     "output_type": "stream",
     "text": [
      "/Users/jven/anaconda3/envs/bootcamp/lib/python3.11/site-packages/sklearn/neural_network/_multilayer_perceptron.py:691: ConvergenceWarning: Stochastic Optimizer: Maximum iterations (2000) reached and the optimization hasn't converged yet.\n",
      "  warnings.warn(\n"
     ]
    },
    {
     "name": "stdout",
     "output_type": "stream",
     "text": [
      "[CV] END activation=tanh, alpha=0.01, hidden_layer_sizes=(50,), learning_rate_init=0.001, max_iter=2000, random_state=42; total time=  27.5s\n"
     ]
    },
    {
     "name": "stderr",
     "output_type": "stream",
     "text": [
      "/Users/jven/anaconda3/envs/bootcamp/lib/python3.11/site-packages/sklearn/neural_network/_multilayer_perceptron.py:691: ConvergenceWarning: Stochastic Optimizer: Maximum iterations (2000) reached and the optimization hasn't converged yet.\n",
      "  warnings.warn(\n"
     ]
    },
    {
     "name": "stdout",
     "output_type": "stream",
     "text": [
      "[CV] END activation=tanh, alpha=0.01, hidden_layer_sizes=(50,), learning_rate_init=0.001, max_iter=2000, random_state=42; total time=  28.5s\n"
     ]
    },
    {
     "name": "stderr",
     "output_type": "stream",
     "text": [
      "/Users/jven/anaconda3/envs/bootcamp/lib/python3.11/site-packages/sklearn/neural_network/_multilayer_perceptron.py:691: ConvergenceWarning: Stochastic Optimizer: Maximum iterations (2000) reached and the optimization hasn't converged yet.\n",
      "  warnings.warn(\n"
     ]
    },
    {
     "name": "stdout",
     "output_type": "stream",
     "text": [
      "[CV] END activation=tanh, alpha=0.01, hidden_layer_sizes=(50,), learning_rate_init=0.001, max_iter=2000, random_state=42; total time=  29.0s\n"
     ]
    },
    {
     "name": "stderr",
     "output_type": "stream",
     "text": [
      "/Users/jven/anaconda3/envs/bootcamp/lib/python3.11/site-packages/sklearn/neural_network/_multilayer_perceptron.py:691: ConvergenceWarning: Stochastic Optimizer: Maximum iterations (2000) reached and the optimization hasn't converged yet.\n",
      "  warnings.warn(\n"
     ]
    },
    {
     "name": "stdout",
     "output_type": "stream",
     "text": [
      "[CV] END activation=tanh, alpha=0.001, hidden_layer_sizes=(50, 50), learning_rate_init=0.01, max_iter=2000, random_state=42; total time= 1.0min\n"
     ]
    },
    {
     "name": "stderr",
     "output_type": "stream",
     "text": [
      "/Users/jven/anaconda3/envs/bootcamp/lib/python3.11/site-packages/sklearn/neural_network/_multilayer_perceptron.py:691: ConvergenceWarning: Stochastic Optimizer: Maximum iterations (2000) reached and the optimization hasn't converged yet.\n",
      "  warnings.warn(\n"
     ]
    },
    {
     "name": "stdout",
     "output_type": "stream",
     "text": [
      "[CV] END activation=tanh, alpha=0.01, hidden_layer_sizes=(50,), learning_rate_init=0.001, max_iter=2000, random_state=42; total time=  25.1s\n"
     ]
    },
    {
     "name": "stderr",
     "output_type": "stream",
     "text": [
      "/Users/jven/anaconda3/envs/bootcamp/lib/python3.11/site-packages/sklearn/neural_network/_multilayer_perceptron.py:691: ConvergenceWarning: Stochastic Optimizer: Maximum iterations (2000) reached and the optimization hasn't converged yet.\n",
      "  warnings.warn(\n"
     ]
    },
    {
     "name": "stdout",
     "output_type": "stream",
     "text": [
      "[CV] END activation=tanh, alpha=0.01, hidden_layer_sizes=(50,), learning_rate_init=0.01, max_iter=2000, random_state=42; total time=  25.1s\n"
     ]
    },
    {
     "name": "stderr",
     "output_type": "stream",
     "text": [
      "/Users/jven/anaconda3/envs/bootcamp/lib/python3.11/site-packages/sklearn/neural_network/_multilayer_perceptron.py:691: ConvergenceWarning: Stochastic Optimizer: Maximum iterations (2000) reached and the optimization hasn't converged yet.\n",
      "  warnings.warn(\n"
     ]
    },
    {
     "name": "stdout",
     "output_type": "stream",
     "text": [
      "[CV] END activation=tanh, alpha=0.01, hidden_layer_sizes=(50,), learning_rate_init=0.01, max_iter=2000, random_state=42; total time=  27.9s\n"
     ]
    },
    {
     "name": "stderr",
     "output_type": "stream",
     "text": [
      "/Users/jven/anaconda3/envs/bootcamp/lib/python3.11/site-packages/sklearn/neural_network/_multilayer_perceptron.py:691: ConvergenceWarning: Stochastic Optimizer: Maximum iterations (2000) reached and the optimization hasn't converged yet.\n",
      "  warnings.warn(\n"
     ]
    },
    {
     "name": "stdout",
     "output_type": "stream",
     "text": [
      "[CV] END activation=tanh, alpha=0.01, hidden_layer_sizes=(50,), learning_rate_init=0.01, max_iter=2000, random_state=42; total time=  29.6s\n"
     ]
    },
    {
     "name": "stderr",
     "output_type": "stream",
     "text": [
      "/Users/jven/anaconda3/envs/bootcamp/lib/python3.11/site-packages/sklearn/neural_network/_multilayer_perceptron.py:691: ConvergenceWarning: Stochastic Optimizer: Maximum iterations (2000) reached and the optimization hasn't converged yet.\n",
      "  warnings.warn(\n"
     ]
    },
    {
     "name": "stdout",
     "output_type": "stream",
     "text": [
      "[CV] END activation=tanh, alpha=0.01, hidden_layer_sizes=(50,), learning_rate_init=0.01, max_iter=2000, random_state=42; total time=  29.4s\n"
     ]
    },
    {
     "name": "stderr",
     "output_type": "stream",
     "text": [
      "/Users/jven/anaconda3/envs/bootcamp/lib/python3.11/site-packages/sklearn/neural_network/_multilayer_perceptron.py:691: ConvergenceWarning: Stochastic Optimizer: Maximum iterations (2000) reached and the optimization hasn't converged yet.\n",
      "  warnings.warn(\n"
     ]
    },
    {
     "name": "stdout",
     "output_type": "stream",
     "text": [
      "[CV] END activation=tanh, alpha=0.001, hidden_layer_sizes=(50, 50), learning_rate_init=0.01, max_iter=2000, random_state=42; total time= 1.3min\n"
     ]
    },
    {
     "name": "stderr",
     "output_type": "stream",
     "text": [
      "/Users/jven/anaconda3/envs/bootcamp/lib/python3.11/site-packages/sklearn/neural_network/_multilayer_perceptron.py:691: ConvergenceWarning: Stochastic Optimizer: Maximum iterations (2000) reached and the optimization hasn't converged yet.\n",
      "  warnings.warn(\n"
     ]
    },
    {
     "name": "stdout",
     "output_type": "stream",
     "text": [
      "[CV] END activation=tanh, alpha=0.01, hidden_layer_sizes=(50,), learning_rate_init=0.01, max_iter=2000, random_state=42; total time=  31.2s\n"
     ]
    },
    {
     "name": "stderr",
     "output_type": "stream",
     "text": [
      "/Users/jven/anaconda3/envs/bootcamp/lib/python3.11/site-packages/sklearn/neural_network/_multilayer_perceptron.py:691: ConvergenceWarning: Stochastic Optimizer: Maximum iterations (2000) reached and the optimization hasn't converged yet.\n",
      "  warnings.warn(\n"
     ]
    },
    {
     "name": "stdout",
     "output_type": "stream",
     "text": [
      "[CV] END activation=tanh, alpha=0.01, hidden_layer_sizes=(100,), learning_rate_init=0.001, max_iter=2000, random_state=42; total time=  40.4s\n"
     ]
    },
    {
     "name": "stderr",
     "output_type": "stream",
     "text": [
      "/Users/jven/anaconda3/envs/bootcamp/lib/python3.11/site-packages/sklearn/neural_network/_multilayer_perceptron.py:691: ConvergenceWarning: Stochastic Optimizer: Maximum iterations (2000) reached and the optimization hasn't converged yet.\n",
      "  warnings.warn(\n"
     ]
    },
    {
     "name": "stdout",
     "output_type": "stream",
     "text": [
      "[CV] END activation=tanh, alpha=0.01, hidden_layer_sizes=(100,), learning_rate_init=0.001, max_iter=2000, random_state=42; total time=  43.2s\n",
      "[CV] END activation=tanh, alpha=0.01, hidden_layer_sizes=(100,), learning_rate_init=0.001, max_iter=2000, random_state=42; total time=  53.8s\n"
     ]
    },
    {
     "name": "stderr",
     "output_type": "stream",
     "text": [
      "/Users/jven/anaconda3/envs/bootcamp/lib/python3.11/site-packages/sklearn/neural_network/_multilayer_perceptron.py:691: ConvergenceWarning: Stochastic Optimizer: Maximum iterations (2000) reached and the optimization hasn't converged yet.\n",
      "  warnings.warn(\n",
      "/Users/jven/anaconda3/envs/bootcamp/lib/python3.11/site-packages/sklearn/neural_network/_multilayer_perceptron.py:691: ConvergenceWarning: Stochastic Optimizer: Maximum iterations (2000) reached and the optimization hasn't converged yet.\n",
      "  warnings.warn(\n"
     ]
    },
    {
     "name": "stdout",
     "output_type": "stream",
     "text": [
      "[CV] END activation=tanh, alpha=0.01, hidden_layer_sizes=(100,), learning_rate_init=0.001, max_iter=2000, random_state=42; total time=  46.9s\n"
     ]
    },
    {
     "name": "stderr",
     "output_type": "stream",
     "text": [
      "/Users/jven/anaconda3/envs/bootcamp/lib/python3.11/site-packages/sklearn/neural_network/_multilayer_perceptron.py:691: ConvergenceWarning: Stochastic Optimizer: Maximum iterations (2000) reached and the optimization hasn't converged yet.\n",
      "  warnings.warn(\n"
     ]
    },
    {
     "name": "stdout",
     "output_type": "stream",
     "text": [
      "[CV] END activation=tanh, alpha=0.01, hidden_layer_sizes=(100,), learning_rate_init=0.001, max_iter=2000, random_state=42; total time=  53.4s\n"
     ]
    },
    {
     "name": "stderr",
     "output_type": "stream",
     "text": [
      "/Users/jven/anaconda3/envs/bootcamp/lib/python3.11/site-packages/sklearn/neural_network/_multilayer_perceptron.py:691: ConvergenceWarning: Stochastic Optimizer: Maximum iterations (2000) reached and the optimization hasn't converged yet.\n",
      "  warnings.warn(\n"
     ]
    },
    {
     "name": "stdout",
     "output_type": "stream",
     "text": [
      "[CV] END activation=tanh, alpha=0.01, hidden_layer_sizes=(100,), learning_rate_init=0.01, max_iter=2000, random_state=42; total time=  53.7s\n",
      "[CV] END activation=tanh, alpha=0.01, hidden_layer_sizes=(100,), learning_rate_init=0.01, max_iter=2000, random_state=42; total time= 1.0min\n"
     ]
    },
    {
     "name": "stderr",
     "output_type": "stream",
     "text": [
      "/Users/jven/anaconda3/envs/bootcamp/lib/python3.11/site-packages/sklearn/neural_network/_multilayer_perceptron.py:691: ConvergenceWarning: Stochastic Optimizer: Maximum iterations (2000) reached and the optimization hasn't converged yet.\n",
      "  warnings.warn(\n",
      "/Users/jven/anaconda3/envs/bootcamp/lib/python3.11/site-packages/sklearn/neural_network/_multilayer_perceptron.py:691: ConvergenceWarning: Stochastic Optimizer: Maximum iterations (2000) reached and the optimization hasn't converged yet.\n",
      "  warnings.warn(\n"
     ]
    },
    {
     "name": "stdout",
     "output_type": "stream",
     "text": [
      "[CV] END activation=tanh, alpha=0.01, hidden_layer_sizes=(100,), learning_rate_init=0.01, max_iter=2000, random_state=42; total time= 1.0min\n"
     ]
    },
    {
     "name": "stderr",
     "output_type": "stream",
     "text": [
      "/Users/jven/anaconda3/envs/bootcamp/lib/python3.11/site-packages/sklearn/neural_network/_multilayer_perceptron.py:691: ConvergenceWarning: Stochastic Optimizer: Maximum iterations (2000) reached and the optimization hasn't converged yet.\n",
      "  warnings.warn(\n",
      "/Users/jven/anaconda3/envs/bootcamp/lib/python3.11/site-packages/sklearn/neural_network/_multilayer_perceptron.py:691: ConvergenceWarning: Stochastic Optimizer: Maximum iterations (2000) reached and the optimization hasn't converged yet.\n",
      "  warnings.warn(\n"
     ]
    },
    {
     "name": "stdout",
     "output_type": "stream",
     "text": [
      "[CV] END activation=tanh, alpha=0.01, hidden_layer_sizes=(100,), learning_rate_init=0.01, max_iter=2000, random_state=42; total time=  55.8s\n",
      "[CV] END activation=tanh, alpha=0.01, hidden_layer_sizes=(100,), learning_rate_init=0.01, max_iter=2000, random_state=42; total time=  54.8s\n"
     ]
    },
    {
     "name": "stderr",
     "output_type": "stream",
     "text": [
      "/Users/jven/anaconda3/envs/bootcamp/lib/python3.11/site-packages/sklearn/neural_network/_multilayer_perceptron.py:691: ConvergenceWarning: Stochastic Optimizer: Maximum iterations (2000) reached and the optimization hasn't converged yet.\n",
      "  warnings.warn(\n"
     ]
    },
    {
     "name": "stdout",
     "output_type": "stream",
     "text": [
      "[CV] END activation=tanh, alpha=0.01, hidden_layer_sizes=(50, 50), learning_rate_init=0.001, max_iter=2000, random_state=42; total time= 1.1min\n"
     ]
    },
    {
     "name": "stderr",
     "output_type": "stream",
     "text": [
      "/Users/jven/anaconda3/envs/bootcamp/lib/python3.11/site-packages/sklearn/neural_network/_multilayer_perceptron.py:691: ConvergenceWarning: Stochastic Optimizer: Maximum iterations (2000) reached and the optimization hasn't converged yet.\n",
      "  warnings.warn(\n"
     ]
    },
    {
     "name": "stdout",
     "output_type": "stream",
     "text": [
      "[CV] END activation=tanh, alpha=0.01, hidden_layer_sizes=(50, 50), learning_rate_init=0.001, max_iter=2000, random_state=42; total time= 1.2min\n"
     ]
    },
    {
     "name": "stderr",
     "output_type": "stream",
     "text": [
      "/Users/jven/anaconda3/envs/bootcamp/lib/python3.11/site-packages/sklearn/neural_network/_multilayer_perceptron.py:691: ConvergenceWarning: Stochastic Optimizer: Maximum iterations (2000) reached and the optimization hasn't converged yet.\n",
      "  warnings.warn(\n"
     ]
    },
    {
     "name": "stdout",
     "output_type": "stream",
     "text": [
      "[CV] END activation=tanh, alpha=0.01, hidden_layer_sizes=(50, 50), learning_rate_init=0.001, max_iter=2000, random_state=42; total time= 1.2min\n"
     ]
    },
    {
     "name": "stderr",
     "output_type": "stream",
     "text": [
      "/Users/jven/anaconda3/envs/bootcamp/lib/python3.11/site-packages/sklearn/neural_network/_multilayer_perceptron.py:691: ConvergenceWarning: Stochastic Optimizer: Maximum iterations (2000) reached and the optimization hasn't converged yet.\n",
      "  warnings.warn(\n"
     ]
    },
    {
     "name": "stdout",
     "output_type": "stream",
     "text": [
      "[CV] END activation=tanh, alpha=0.01, hidden_layer_sizes=(50, 50), learning_rate_init=0.001, max_iter=2000, random_state=42; total time= 1.3min\n"
     ]
    },
    {
     "name": "stderr",
     "output_type": "stream",
     "text": [
      "/Users/jven/anaconda3/envs/bootcamp/lib/python3.11/site-packages/sklearn/neural_network/_multilayer_perceptron.py:691: ConvergenceWarning: Stochastic Optimizer: Maximum iterations (2000) reached and the optimization hasn't converged yet.\n",
      "  warnings.warn(\n"
     ]
    },
    {
     "name": "stdout",
     "output_type": "stream",
     "text": [
      "[CV] END activation=tanh, alpha=0.01, hidden_layer_sizes=(50, 50), learning_rate_init=0.01, max_iter=2000, random_state=42; total time=  56.7s\n"
     ]
    },
    {
     "name": "stderr",
     "output_type": "stream",
     "text": [
      "/Users/jven/anaconda3/envs/bootcamp/lib/python3.11/site-packages/sklearn/neural_network/_multilayer_perceptron.py:691: ConvergenceWarning: Stochastic Optimizer: Maximum iterations (2000) reached and the optimization hasn't converged yet.\n",
      "  warnings.warn(\n",
      "/Users/jven/anaconda3/envs/bootcamp/lib/python3.11/site-packages/sklearn/neural_network/_multilayer_perceptron.py:691: ConvergenceWarning: Stochastic Optimizer: Maximum iterations (2000) reached and the optimization hasn't converged yet.\n",
      "  warnings.warn(\n"
     ]
    },
    {
     "name": "stdout",
     "output_type": "stream",
     "text": [
      "[CV] END activation=tanh, alpha=0.01, hidden_layer_sizes=(50, 50), learning_rate_init=0.01, max_iter=2000, random_state=42; total time= 1.1min\n",
      "[CV] END activation=tanh, alpha=0.01, hidden_layer_sizes=(50, 50), learning_rate_init=0.01, max_iter=2000, random_state=42; total time=  59.1s\n"
     ]
    },
    {
     "name": "stderr",
     "output_type": "stream",
     "text": [
      "/Users/jven/anaconda3/envs/bootcamp/lib/python3.11/site-packages/sklearn/neural_network/_multilayer_perceptron.py:691: ConvergenceWarning: Stochastic Optimizer: Maximum iterations (2000) reached and the optimization hasn't converged yet.\n",
      "  warnings.warn(\n"
     ]
    },
    {
     "name": "stdout",
     "output_type": "stream",
     "text": [
      "[CV] END activation=tanh, alpha=0.01, hidden_layer_sizes=(50, 50), learning_rate_init=0.001, max_iter=2000, random_state=42; total time= 1.2min\n"
     ]
    },
    {
     "name": "stderr",
     "output_type": "stream",
     "text": [
      "/Users/jven/anaconda3/envs/bootcamp/lib/python3.11/site-packages/sklearn/neural_network/_multilayer_perceptron.py:691: ConvergenceWarning: Stochastic Optimizer: Maximum iterations (2000) reached and the optimization hasn't converged yet.\n",
      "  warnings.warn(\n"
     ]
    },
    {
     "name": "stdout",
     "output_type": "stream",
     "text": [
      "[CV] END activation=tanh, alpha=0.01, hidden_layer_sizes=(50, 50), learning_rate_init=0.01, max_iter=2000, random_state=42; total time=  44.4s\n"
     ]
    },
    {
     "name": "stderr",
     "output_type": "stream",
     "text": [
      "/Users/jven/anaconda3/envs/bootcamp/lib/python3.11/site-packages/sklearn/neural_network/_multilayer_perceptron.py:691: ConvergenceWarning: Stochastic Optimizer: Maximum iterations (2000) reached and the optimization hasn't converged yet.\n",
      "  warnings.warn(\n"
     ]
    },
    {
     "name": "stdout",
     "output_type": "stream",
     "text": [
      "[CV] END activation=tanh, alpha=0.01, hidden_layer_sizes=(50, 50), learning_rate_init=0.01, max_iter=2000, random_state=42; total time=  41.5s\n",
      "Best parameters for MLP: {'activation': 'relu', 'alpha': 0.001, 'hidden_layer_sizes': (50, 50), 'learning_rate_init': 0.01, 'max_iter': 2000, 'random_state': 42}\n",
      "Best CV RMSE: 348.6476346006725\n",
      "Train RMSE: 343.76\n",
      "Test RMSE: 782.21\n",
      "Train R2: 0.9995\n",
      "Test R2: 0.9991\n"
     ]
    }
   ],
   "source": [
    "from sklearn.neural_network import MLPRegressor\n",
    "from sklearn.model_selection import GridSearchCV\n",
    "from sklearn.metrics import mean_squared_error, r2_score\n",
    "import numpy as np\n",
    "\n",
    "# Define a focused parameter grid for MLP\n",
    "mlp_param_grid = {\n",
    "    'hidden_layer_sizes': [(50,), (100,), (50, 50)],\n",
    "    'activation': ['relu', 'tanh'],\n",
    "    'alpha': [0.0001, 0.001, 0.01],\n",
    "    'learning_rate_init': [0.001, 0.01],\n",
    "    'max_iter': [2000],\n",
    "    'random_state': [42]\n",
    "}\n",
    "\n",
    "mlp = MLPRegressor()\n",
    "\n",
    "grid_search = GridSearchCV(\n",
    "    estimator=mlp,\n",
    "    param_grid=mlp_param_grid,\n",
    "    cv=5,\n",
    "    scoring='neg_root_mean_squared_error',  # Direct RMSE\n",
    "    n_jobs=-1,\n",
    "    verbose=2\n",
    ")\n",
    "\n",
    "grid_search.fit(X_train_scaled, y_train)\n",
    "\n",
    "print(\"Best parameters for MLP:\", grid_search.best_params_)\n",
    "print(\"Best CV RMSE:\", -grid_search.best_score_)\n",
    "\n",
    "# Evaluate on train and test\n",
    "best_mlp = grid_search.best_estimator_\n",
    "y_train_pred = best_mlp.predict(X_train_scaled)\n",
    "y_test_pred = best_mlp.predict(X_test_scaled)\n",
    "\n",
    "print(f\"Train RMSE: {np.sqrt(mean_squared_error(y_train, y_train_pred)):.2f}\")\n",
    "print(f\"Test RMSE: {np.sqrt(mean_squared_error(y_test, y_test_pred)):.2f}\")\n",
    "print(f\"Train R2: {r2_score(y_train, y_train_pred):.4f}\")\n",
    "print(f\"Test R2: {r2_score(y_test, y_test_pred):.4f}\")"
   ]
  }
 ],
 "metadata": {
  "kernelspec": {
   "display_name": "bootcamp",
   "language": "python",
   "name": "python3"
  },
  "language_info": {
   "codemirror_mode": {
    "name": "ipython",
    "version": 3
   },
   "file_extension": ".py",
   "mimetype": "text/x-python",
   "name": "python",
   "nbconvert_exporter": "python",
   "pygments_lexer": "ipython3",
   "version": "3.11.11"
  }
 },
 "nbformat": 4,
 "nbformat_minor": 2
}
